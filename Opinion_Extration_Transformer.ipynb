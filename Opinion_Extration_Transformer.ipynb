{
 "cells": [
  {
   "cell_type": "markdown",
   "id": "1a8d4523-e603-4a7b-a4e2-ec887f5014f4",
   "metadata": {},
   "source": [
    "# Experiment using Transformers"
   ]
  },
  {
   "cell_type": "markdown",
   "id": "4e0a6a18-d6b1-4aec-ae43-6c1e953cce9a",
   "metadata": {
    "tags": []
   },
   "source": [
    "## Loading Data"
   ]
  },
  {
   "cell_type": "code",
   "execution_count": 27,
   "id": "7668d5e7-634a-417a-ac83-2c3495019736",
   "metadata": {},
   "outputs": [],
   "source": [
    "import json\n",
    "import os\n",
    "import nltk\n",
    "import pandas as pd\n",
    "import logging\n",
    "from nltk.tokenize import WhitespaceTokenizer\n",
    "from simpletransformers.classification import ClassificationModel, ClassificationArgs\n",
    "from simpletransformers.ner import NERModel, NERArgs\n",
    "from sklearn import metrics"
   ]
  },
  {
   "cell_type": "code",
   "execution_count": 28,
   "id": "e3fe6db2-c9ce-4dc9-8920-ae2faa5821b2",
   "metadata": {},
   "outputs": [],
   "source": [
    "current_directory = os.getcwd()\n",
    "train_directory_du = current_directory + \"/../../data/darmstadt_unis/train.json\"\n",
    "test_directory_du = current_directory + \"/../../data/darmstadt_unis/dev.json\""
   ]
  },
  {
   "cell_type": "code",
   "execution_count": 29,
   "id": "b778940a-4e45-484b-a151-cc86f5fa082e",
   "metadata": {},
   "outputs": [],
   "source": [
    "train_directory_mpqa = current_directory + \"/../../data/mpqa/train.json\"\n",
    "test_directory_mpqa = current_directory + \"/../../data/mpqa/dev.json\""
   ]
  },
  {
   "cell_type": "code",
   "execution_count": 30,
   "id": "db0b66b0-c487-4283-aae0-905c76c53b1d",
   "metadata": {},
   "outputs": [],
   "source": [
    "train_directory_open = current_directory + \"/../../data/opener_en/train.json\"\n",
    "test_directory_open = current_directory + \"/../../data/opener_en/dev.json\""
   ]
  },
  {
   "cell_type": "code",
   "execution_count": 31,
   "id": "ded8077e-69f7-4f48-a8ba-9564d3023882",
   "metadata": {},
   "outputs": [],
   "source": [
    "train_json_du, test_json_du = {}, {}\n",
    "with open(train_directory_du) as f:\n",
    "    train_json_du = json.load(f)\n",
    "with open(test_directory_du) as f:\n",
    "    test_json_du = json.load(f)"
   ]
  },
  {
   "cell_type": "code",
   "execution_count": 32,
   "id": "64f8ef9a-2c39-4df0-bf55-0d9921f90ea8",
   "metadata": {},
   "outputs": [],
   "source": [
    "train_json_mpqa, test_json_mpqa = {}, {}\n",
    "with open(train_directory_mpqa) as f:\n",
    "    train_json_mpqa = json.load(f)\n",
    "with open(test_directory_mpqa) as f:\n",
    "    test_json_mpqa = json.load(f)"
   ]
  },
  {
   "cell_type": "code",
   "execution_count": 33,
   "id": "71962636-b71a-4654-91e4-4b7513bf1d3b",
   "metadata": {},
   "outputs": [],
   "source": [
    "train_json_open, test_json_open = {}, {}\n",
    "with open(train_directory_open) as f:\n",
    "    train_json_open = json.load(f)\n",
    "with open(test_directory_open) as f:\n",
    "    test_json_open = json.load(f)"
   ]
  },
  {
   "cell_type": "markdown",
   "id": "7a285bf9-edbc-4ec9-b54f-24c76478bd2b",
   "metadata": {},
   "source": [
    "## Data Cleaning"
   ]
  },
  {
   "cell_type": "code",
   "execution_count": 34,
   "id": "f9d4bf16-b49b-4121-9334-6f2b81de4485",
   "metadata": {},
   "outputs": [],
   "source": [
    "def check_overlap_tags(opinions, text):\n",
    "    text_length = len(text)\n",
    "    for opinion in opinions:\n",
    "        li = []\n",
    "        if opinion.get('Source') != None:\n",
    "            for source in opinion.get('Source')[1]:\n",
    "                li.append(tuple([int(num) for num in source.split(':')]))\n",
    "        if opinion.get('Target') != None:\n",
    "            for target in opinion.get('Target')[1]:\n",
    "                li.append(tuple([int(num) for num in target.split(':')]))\n",
    "        if opinion.get('Polar_expression') != None:\n",
    "            for expression in opinion.get('Polar_expression')[1]:\n",
    "                li.append(tuple([int(num) for num in expression.split(':')]))\n",
    "        ranges = [range(r[0]+1, r[1]-1) for r in li]\n",
    "        # check if any two ranges of tags overlap\n",
    "        overlap = any(any(e-1 in r for r in ranges) for l in li for e in l)\n",
    "        if overlap == True:\n",
    "            return True\n",
    "        # check if the range exceeds the max and min bounds of the text size\n",
    "        not_included = any(l[1] > text_length or l[0] < 0 for l in li)\n",
    "        if not_included == True:\n",
    "            return True\n",
    "    return False\n",
    "                "
   ]
  },
  {
   "cell_type": "code",
   "execution_count": 35,
   "id": "7fabff3b-d452-4330-9ee3-9170b0a4d14a",
   "metadata": {},
   "outputs": [],
   "source": [
    "def remove_overlap_rows(json_data):\n",
    "    orig_data_size = len(json_data)\n",
    "    json_data = [row for row in json_data if not check_overlap_tags(row.get('opinions', []), row.get('text', ''))]\n",
    "    new_data_size = len(json_data)\n",
    "    removed_rows = orig_data_size - new_data_size\n",
    "    print('Processing removed {} overlapping rows'.format(removed_rows))\n",
    "    return json_data"
   ]
  },
  {
   "cell_type": "code",
   "execution_count": 36,
   "id": "b054319a-8ad8-4571-b4da-c9a4bc059b89",
   "metadata": {},
   "outputs": [
    {
     "name": "stdout",
     "output_type": "stream",
     "text": [
      "Processing removed 11 overlapping rows\n",
      "Processing removed 4 overlapping rows\n",
      "Processing removed 51 overlapping rows\n",
      "Processing removed 18 overlapping rows\n",
      "Processing removed 81 overlapping rows\n",
      "Processing removed 17 overlapping rows\n"
     ]
    }
   ],
   "source": [
    "# remove all data where the NER tag overlaps\n",
    "train_json_du, test_json_du = remove_overlap_rows(train_json_du), remove_overlap_rows(test_json_du)\n",
    "train_json_mpqa, test_json_mpqa = remove_overlap_rows(train_json_mpqa), remove_overlap_rows(test_json_mpqa)\n",
    "train_json_open, test_json_open = remove_overlap_rows(train_json_open), remove_overlap_rows(test_json_open)"
   ]
  },
  {
   "cell_type": "markdown",
   "id": "16c8b3e1-4455-439b-9a9c-7e34b584a7a0",
   "metadata": {
    "tags": []
   },
   "source": [
    "## Transform Data for NER Task"
   ]
  },
  {
   "cell_type": "code",
   "execution_count": 37,
   "id": "76174619-44be-42fc-aa09-dfeae690e5db",
   "metadata": {},
   "outputs": [],
   "source": [
    "def swap_tag(cur_tag, next_tag):\n",
    "    if cur_tag != next_tag:\n",
    "        cur_tag = next_tag\n",
    "    return cur_tag\n",
    "    "
   ]
  },
  {
   "cell_type": "code",
   "execution_count": 38,
   "id": "3292df8e-4845-49d0-8e9a-af841f5ba697",
   "metadata": {},
   "outputs": [],
   "source": [
    "def get_span(entity_tags, expected_span):\n",
    "    span_list_add = []\n",
    "    span_list_remove = []\n",
    "    # if the span exists, simply add it\n",
    "    if entity_tags.get(expected_span) != None:\n",
    "        span_list_add.append(expected_span)\n",
    "    # else if not exact match\n",
    "    else:\n",
    "        # get the span with the same beginning or the end\n",
    "        entity_tags_list = list(entity_tags)\n",
    "        start_span_list = [span for span in entity_tags_list if span[0] == expected_span[0]]\n",
    "        end_span_list = [span for span in entity_tags_list if span[1] == expected_span[1]]\n",
    "        # if it's an embedded word\n",
    "        if len(end_span_list) == 0 and len(start_span_list) == 0:\n",
    "            span_list_add.append(expected_span)\n",
    "            start_list = (tag_span[0] for tag_span in entity_tags_list)\n",
    "            outter_span_index = next(i for i,v in enumerate(start_list) if v > expected_span[0])\n",
    "            outter_span = entity_tags_list[outter_span_index]\n",
    "            span_list_add.append((outter_span[0],expected_span[0]+1))\n",
    "            span_list_add.append((expected_span[1]-1, outter_span[1]))\n",
    "            span_list_remove.append(outter_span)\n",
    "        # if it's the beginning that doesn't match, split into two, remove the original\n",
    "        elif len(start_span_list) == 0:\n",
    "            span_list_add.append(expected_span)\n",
    "            span_list_add.append((end_span_list[0][0],expected_span[0]+1))\n",
    "            span_list_remove.append(end_span_list[0])\n",
    "        # similar for the end, just the other way around\n",
    "        elif len(end_span_list) == 0:\n",
    "            span_list_add.append(expected_span)\n",
    "            span_list_add.append((start_span_list[0][1]-1,expected_span[1]))\n",
    "            span_list_remove.append(start_span_list[0])\n",
    "        # if it's just a longer expected span, break it down\n",
    "        elif len(start_span_list) != 0 and len(end_span_list)!= 0:\n",
    "            start_span_index = entity_tags_list.index(start_span_list[0])\n",
    "            end_span_index = entity_tags_list.index(end_span_list[0])\n",
    "            span_list_add.extend(entity_tags_list[start_span_index:end_span_index+1])\n",
    "    # return the span to be added and to be removed\n",
    "    return span_list_add, span_list_remove\n",
    "        \n",
    "    "
   ]
  },
  {
   "cell_type": "code",
   "execution_count": 39,
   "id": "01370af9-869c-4759-bd23-06cdce74839a",
   "metadata": {},
   "outputs": [],
   "source": [
    "def custom_named_entity_tagging(sentence_id, sentence, opinions, tokenizer, default_tag='O'):\n",
    "    span_generator = tokenizer.span_tokenize(sentence)\n",
    "    entity_tags = dict([(span, default_tag) for span in span_generator])\n",
    "    for opinion in opinions:\n",
    "        source = opinion.get('Source')[0]\n",
    "        target = opinion.get('Target')[0]\n",
    "        expression = opinion.get('Polar_expression')[0]\n",
    "        if len(source)!=0:\n",
    "            # if any tags not in the original sentence, break and return\n",
    "            for text in opinion.get('Source')[0]:\n",
    "                if text not in sentence:\n",
    "                    return []\n",
    "            span_list = opinion.get('Source')[1]\n",
    "            cur_tag = 'B-SOURCE'\n",
    "            for word in span_list:\n",
    "                expected_span = tuple([int(num) for num in word.split(':')])\n",
    "                actual_span, removed_span = get_span(entity_tags=entity_tags, expected_span=expected_span)\n",
    "                for span in actual_span:\n",
    "                    entity_tags[span] = cur_tag\n",
    "                    cur_tag = swap_tag(cur_tag=cur_tag, next_tag='I-SOURCE')\n",
    "                for span in removed_span:\n",
    "                    del entity_tags[span]\n",
    "        if len(target)!=0:\n",
    "            # if any tags not in the original sentence, break and return\n",
    "            for text in opinion.get('Target')[0]:\n",
    "                if text not in sentence:\n",
    "                    return []\n",
    "            span_list = opinion.get('Target')[1]\n",
    "            cur_tag = 'B-TARGET'\n",
    "            for word in span_list:\n",
    "                expected_span = tuple([int(num) for num in word.split(':')])\n",
    "                actual_span, removed_span = get_span(entity_tags=entity_tags, expected_span=expected_span)\n",
    "                for span in actual_span:\n",
    "                    entity_tags[span] = cur_tag\n",
    "                    cur_tag = swap_tag(cur_tag=cur_tag, next_tag='I-TARGET')\n",
    "                for span in removed_span:\n",
    "                    del entity_tags[span]\n",
    "        if len(expression)!=0:\n",
    "            for text in opinion.get('Polar_expression')[0]:\n",
    "                if text not in sentence:\n",
    "                    return []\n",
    "            span_list = opinion.get('Polar_expression')[1]\n",
    "            cur_tag = 'B-EXPRESSION'\n",
    "            for word in span_list:\n",
    "                expected_span = tuple([int(num) for num in word.split(':')])\n",
    "                actual_span, removed_span = get_span(entity_tags=entity_tags, expected_span=expected_span)\n",
    "                for span in actual_span:\n",
    "                    entity_tags[span] = cur_tag\n",
    "                    cur_tag = swap_tag(cur_tag=cur_tag, next_tag='I-EXPRESSION')\n",
    "                for span in removed_span:\n",
    "                    del entity_tags[span]\n",
    "\n",
    "    tagged_words = [[sentence_id, sentence[word_span[0]: word_span[1]], tag] for word_span, tag in entity_tags.items()]\n",
    "    return tagged_words\n"
   ]
  },
  {
   "cell_type": "code",
   "execution_count": 40,
   "id": "583c15be-a1c9-4207-ae07-70020d1dabc5",
   "metadata": {},
   "outputs": [],
   "source": [
    "def sent_dict_to_list(sent_dict, tokenizer, tagger):\n",
    "    sentence_id= sent_dict.get('sent_id', 'UNKNOWN_ID')\n",
    "    sentence = sent_dict.get('text')\n",
    "    opinions = sent_dict.get('opinions')\n",
    "    tokenizer = tokenizer\n",
    "    sent_list = tagger(\n",
    "        sentence_id = sentence_id,\n",
    "        sentence = sentence,\n",
    "        opinions = opinions,\n",
    "        tokenizer = tokenizer\n",
    "    )\n",
    "    return sent_list"
   ]
  },
  {
   "cell_type": "code",
   "execution_count": 41,
   "id": "a837142a-dc76-41ca-80e7-abf568bbf754",
   "metadata": {},
   "outputs": [],
   "source": [
    "def preprocess_data_NER(input_data):\n",
    "    w_tokenizer = WhitespaceTokenizer()\n",
    "    output_data = []\n",
    "    for row in input_data:\n",
    "        tagged_word_list = sent_dict_to_list(row, w_tokenizer, custom_named_entity_tagging)\n",
    "        output_data.extend(tagged_word_list)\n",
    "    output_df = pd.DataFrame(data=output_data, columns=['sentence_id','words','labels'])\n",
    "    return output_df"
   ]
  },
  {
   "cell_type": "code",
   "execution_count": 42,
   "id": "2a9ccacc-550a-431c-8e9b-2f500b9e6c2c",
   "metadata": {},
   "outputs": [],
   "source": [
    "train_df_NER = preprocess_data_NER(train_json_du)\n",
    "test_df_NER = preprocess_data_NER(test_json_du)"
   ]
  },
  {
   "cell_type": "code",
   "execution_count": 43,
   "id": "e51ef41c-92c6-463e-b960-0bd23d9e86f0",
   "metadata": {},
   "outputs": [],
   "source": [
    "train_df_NER = train_df_NER.append(preprocess_data_NER(train_json_mpqa), ignore_index=True)\n",
    "test_df_NER = test_df_NER.append(preprocess_data_NER(test_json_mpqa), ignore_index=True)"
   ]
  },
  {
   "cell_type": "code",
   "execution_count": 44,
   "id": "3dc8a69d-3508-45a2-b853-92ce09476542",
   "metadata": {},
   "outputs": [],
   "source": [
    "train_df_NER = train_df_NER.append(preprocess_data_NER(train_json_open), ignore_index=True)\n",
    "test_df_NER = test_df_NER.append(preprocess_data_NER(test_json_open), ignore_index=True)"
   ]
  },
  {
   "cell_type": "code",
   "execution_count": 45,
   "id": "1dd2660e-6270-45fb-8fda-f9c47e87bc8c",
   "metadata": {},
   "outputs": [],
   "source": [
    "# remove any possible parsing left-overs of empty string\n",
    "train_data = train_df_NER[train_df_NER['words']!='']\n",
    "eval_data = test_df_NER[test_df_NER['words']!='']"
   ]
  },
  {
   "cell_type": "code",
   "execution_count": null,
   "id": "0870fa1c-5e36-4ef4-bf99-fa03397fe557",
   "metadata": {},
   "outputs": [],
   "source": [
    "# train_data.to_csv('train_ner.csv', index=False)\n",
    "# eval_data.to_csv('dev_ner.csv', index=False)"
   ]
  },
  {
   "cell_type": "markdown",
   "id": "0f5b589b-3a63-4bf5-a993-c7a451574860",
   "metadata": {},
   "source": [
    "# Data analysis"
   ]
  },
  {
   "cell_type": "code",
   "execution_count": 101,
   "id": "6d25dc4b-6e36-47bb-8da8-d06e0ba801c3",
   "metadata": {},
   "outputs": [
    {
     "data": {
      "text/html": [
       "<div>\n",
       "<style scoped>\n",
       "    .dataframe tbody tr th:only-of-type {\n",
       "        vertical-align: middle;\n",
       "    }\n",
       "\n",
       "    .dataframe tbody tr th {\n",
       "        vertical-align: top;\n",
       "    }\n",
       "\n",
       "    .dataframe thead th {\n",
       "        text-align: right;\n",
       "    }\n",
       "</style>\n",
       "<table border=\"1\" class=\"dataframe\">\n",
       "  <thead>\n",
       "    <tr style=\"text-align: right;\">\n",
       "      <th></th>\n",
       "      <th>labels</th>\n",
       "    </tr>\n",
       "  </thead>\n",
       "  <tbody>\n",
       "    <tr>\n",
       "      <th>O</th>\n",
       "      <td>177315</td>\n",
       "    </tr>\n",
       "    <tr>\n",
       "      <th>I-TARGET</th>\n",
       "      <td>8666</td>\n",
       "    </tr>\n",
       "    <tr>\n",
       "      <th>I-EXPRESSION</th>\n",
       "      <td>5200</td>\n",
       "    </tr>\n",
       "    <tr>\n",
       "      <th>B-EXPRESSION</th>\n",
       "      <td>4698</td>\n",
       "    </tr>\n",
       "    <tr>\n",
       "      <th>B-TARGET</th>\n",
       "      <td>3951</td>\n",
       "    </tr>\n",
       "    <tr>\n",
       "      <th>I-SOURCE</th>\n",
       "      <td>1776</td>\n",
       "    </tr>\n",
       "    <tr>\n",
       "      <th>B-SOURCE</th>\n",
       "      <td>1271</td>\n",
       "    </tr>\n",
       "  </tbody>\n",
       "</table>\n",
       "</div>"
      ],
      "text/plain": [
       "              labels\n",
       "O             177315\n",
       "I-TARGET        8666\n",
       "I-EXPRESSION    5200\n",
       "B-EXPRESSION    4698\n",
       "B-TARGET        3951\n",
       "I-SOURCE        1776\n",
       "B-SOURCE        1271"
      ]
     },
     "execution_count": 101,
     "metadata": {},
     "output_type": "execute_result"
    }
   ],
   "source": [
    "train_data['labels'].value_counts().to_frame()"
   ]
  },
  {
   "cell_type": "code",
   "execution_count": 95,
   "id": "12cf90c9-3f8b-4622-8bae-e6fdf986a492",
   "metadata": {},
   "outputs": [],
   "source": [
    "df = [preprocess_data_NER(train_json_du),preprocess_data_NER(train_json_mpqa),preprocess_data_NER(train_json_open)]\n",
    "df_eval = [preprocess_data_NER(test_json_du),preprocess_data_NER(test_json_mpqa),preprocess_data_NER(test_json_open)]"
   ]
  },
  {
   "cell_type": "code",
   "execution_count": 96,
   "id": "12232f2d-7e36-4637-afe2-c4753106316c",
   "metadata": {},
   "outputs": [],
   "source": [
    "def calculate_max_length(x,field):\n",
    "    return list(x).count(field)    "
   ]
  },
  {
   "cell_type": "code",
   "execution_count": 97,
   "id": "524a4da1-a011-4590-9577-8d053bf2ff77",
   "metadata": {},
   "outputs": [],
   "source": [
    "def data_preprocessing_all(df):\n",
    "    column_names = [\"total_sentence\",\"source_count\",\"source_max_count\",\"source_avg_count\",\"target_count\",\"target_max_count\",\n",
    "                    \"target_avg_count\",\"exp_count\",\"exp_max_count\",\"exp_avg_count\"]\n",
    "    result = pd.DataFrame(columns = column_names)\n",
    "    for train_data in df:\n",
    "        total_sentence = train_data['sentence_id'].nunique()\n",
    "        label_count = train_data['labels'].value_counts().to_dict()\n",
    "        target_count  = label_count[\"B-TARGET\"]\n",
    "        source_count  = label_count[\"B-SOURCE\"]\n",
    "        exp_count  = label_count[\"B-EXPRESSION\"]\n",
    "        target_max_count = train_data.groupby('sentence_id').agg(lambda x: calculate_max_length(x,\"B-TARGET\")).reset_index()['labels'].values.max()\n",
    "        source_max_count = train_data.groupby('sentence_id').agg(lambda x: calculate_max_length(x,\"B-SOURCE\")).reset_index()['labels'].values.max()\n",
    "        exp_max_count = train_data.groupby('sentence_id').agg(lambda x: calculate_max_length(x,\"B-EXPRESSION\")).reset_index()['labels'].values.max()\n",
    "        source_avg_count= round(source_count/total_sentence,2)\n",
    "        target_avg_count= round(target_count/total_sentence,2)\n",
    "        exp_avg_count= round(exp_count/total_sentence,2)\n",
    "        df2 = {\"total_sentence\":total_sentence,\"source_count\":source_count,\"source_max_count\":source_max_count,\"source_avg_count\":source_avg_count,\"target_count\":target_count,\"target_max_count\":target_max_count,\n",
    "                    \"target_avg_count\":target_avg_count,\"exp_count\":exp_count,\"exp_max_count\":exp_max_count,\"exp_avg_count\":exp_avg_count}\n",
    "        result = result.append(df2, ignore_index = True)\n",
    "    result[\"Dataset\"] = [\"Darmstadt_unis\",\"MPQA\",\"OpeNER_en\"]\n",
    "    result = result.set_index(\"Dataset\")\n",
    "    return result"
   ]
  },
  {
   "cell_type": "code",
   "execution_count": 58,
   "id": "481dafda-ef98-4ec4-b5dc-ea9c4cf1dae9",
   "metadata": {},
   "outputs": [
    {
     "data": {
      "text/html": [
       "<div>\n",
       "<style scoped>\n",
       "    .dataframe tbody tr th:only-of-type {\n",
       "        vertical-align: middle;\n",
       "    }\n",
       "\n",
       "    .dataframe tbody tr th {\n",
       "        vertical-align: top;\n",
       "    }\n",
       "\n",
       "    .dataframe thead th {\n",
       "        text-align: right;\n",
       "    }\n",
       "</style>\n",
       "<table border=\"1\" class=\"dataframe\">\n",
       "  <thead>\n",
       "    <tr style=\"text-align: right;\">\n",
       "      <th></th>\n",
       "      <th>total_sentence</th>\n",
       "      <th>source_count</th>\n",
       "      <th>source_max_count</th>\n",
       "      <th>source_avg_count</th>\n",
       "      <th>target_count</th>\n",
       "      <th>target_max_count</th>\n",
       "      <th>target_avg_count</th>\n",
       "      <th>exp_count</th>\n",
       "      <th>exp_max_count</th>\n",
       "      <th>exp_avg_count</th>\n",
       "    </tr>\n",
       "    <tr>\n",
       "      <th>Dataset</th>\n",
       "      <th></th>\n",
       "      <th></th>\n",
       "      <th></th>\n",
       "      <th></th>\n",
       "      <th></th>\n",
       "      <th></th>\n",
       "      <th></th>\n",
       "      <th></th>\n",
       "      <th></th>\n",
       "      <th></th>\n",
       "    </tr>\n",
       "  </thead>\n",
       "  <tbody>\n",
       "    <tr>\n",
       "      <th>Darmstadt_unis</th>\n",
       "      <td>2230.0</td>\n",
       "      <td>55.0</td>\n",
       "      <td>1.0</td>\n",
       "      <td>0.02</td>\n",
       "      <td>707.0</td>\n",
       "      <td>4.0</td>\n",
       "      <td>0.32</td>\n",
       "      <td>770.0</td>\n",
       "      <td>5.0</td>\n",
       "      <td>0.35</td>\n",
       "    </tr>\n",
       "    <tr>\n",
       "      <th>MPQA</th>\n",
       "      <td>5628.0</td>\n",
       "      <td>1048.0</td>\n",
       "      <td>3.0</td>\n",
       "      <td>0.19</td>\n",
       "      <td>1293.0</td>\n",
       "      <td>5.0</td>\n",
       "      <td>0.23</td>\n",
       "      <td>1473.0</td>\n",
       "      <td>5.0</td>\n",
       "      <td>0.26</td>\n",
       "    </tr>\n",
       "    <tr>\n",
       "      <th>OpeNER_en</th>\n",
       "      <td>1640.0</td>\n",
       "      <td>168.0</td>\n",
       "      <td>3.0</td>\n",
       "      <td>0.10</td>\n",
       "      <td>1951.0</td>\n",
       "      <td>16.0</td>\n",
       "      <td>1.19</td>\n",
       "      <td>2455.0</td>\n",
       "      <td>13.0</td>\n",
       "      <td>1.50</td>\n",
       "    </tr>\n",
       "  </tbody>\n",
       "</table>\n",
       "</div>"
      ],
      "text/plain": [
       "                total_sentence  source_count  source_max_count  \\\n",
       "Dataset                                                          \n",
       "Darmstadt_unis          2230.0          55.0               1.0   \n",
       "MPQA                    5628.0        1048.0               3.0   \n",
       "OpeNER_en               1640.0         168.0               3.0   \n",
       "\n",
       "                source_avg_count  target_count  target_max_count  \\\n",
       "Dataset                                                            \n",
       "Darmstadt_unis              0.02         707.0               4.0   \n",
       "MPQA                        0.19        1293.0               5.0   \n",
       "OpeNER_en                   0.10        1951.0              16.0   \n",
       "\n",
       "                target_avg_count  exp_count  exp_max_count  exp_avg_count  \n",
       "Dataset                                                                    \n",
       "Darmstadt_unis              0.32      770.0            5.0           0.35  \n",
       "MPQA                        0.23     1473.0            5.0           0.26  \n",
       "OpeNER_en                   1.19     2455.0           13.0           1.50  "
      ]
     },
     "execution_count": 58,
     "metadata": {},
     "output_type": "execute_result"
    }
   ],
   "source": [
    "data_preprocessing_all(df)"
   ]
  },
  {
   "cell_type": "code",
   "execution_count": 59,
   "id": "37887f4e-4877-4670-91b1-841ca2a6f90d",
   "metadata": {},
   "outputs": [
    {
     "data": {
      "text/html": [
       "<div>\n",
       "<style scoped>\n",
       "    .dataframe tbody tr th:only-of-type {\n",
       "        vertical-align: middle;\n",
       "    }\n",
       "\n",
       "    .dataframe tbody tr th {\n",
       "        vertical-align: top;\n",
       "    }\n",
       "\n",
       "    .dataframe thead th {\n",
       "        text-align: right;\n",
       "    }\n",
       "</style>\n",
       "<table border=\"1\" class=\"dataframe\">\n",
       "  <thead>\n",
       "    <tr style=\"text-align: right;\">\n",
       "      <th></th>\n",
       "      <th>total_sentence</th>\n",
       "      <th>source_count</th>\n",
       "      <th>source_max_count</th>\n",
       "      <th>source_avg_count</th>\n",
       "      <th>target_count</th>\n",
       "      <th>target_max_count</th>\n",
       "      <th>target_avg_count</th>\n",
       "      <th>exp_count</th>\n",
       "      <th>exp_max_count</th>\n",
       "      <th>exp_avg_count</th>\n",
       "    </tr>\n",
       "    <tr>\n",
       "      <th>Dataset</th>\n",
       "      <th></th>\n",
       "      <th></th>\n",
       "      <th></th>\n",
       "      <th></th>\n",
       "      <th></th>\n",
       "      <th></th>\n",
       "      <th></th>\n",
       "      <th></th>\n",
       "      <th></th>\n",
       "      <th></th>\n",
       "    </tr>\n",
       "  </thead>\n",
       "  <tbody>\n",
       "    <tr>\n",
       "      <th>Darmstadt_unis</th>\n",
       "      <td>225.0</td>\n",
       "      <td>8.0</td>\n",
       "      <td>2.0</td>\n",
       "      <td>0.04</td>\n",
       "      <td>85.0</td>\n",
       "      <td>3.0</td>\n",
       "      <td>0.38</td>\n",
       "      <td>90.0</td>\n",
       "      <td>3.0</td>\n",
       "      <td>0.40</td>\n",
       "    </tr>\n",
       "    <tr>\n",
       "      <th>MPQA</th>\n",
       "      <td>1990.0</td>\n",
       "      <td>293.0</td>\n",
       "      <td>2.0</td>\n",
       "      <td>0.15</td>\n",
       "      <td>426.0</td>\n",
       "      <td>4.0</td>\n",
       "      <td>0.21</td>\n",
       "      <td>486.0</td>\n",
       "      <td>4.0</td>\n",
       "      <td>0.24</td>\n",
       "    </tr>\n",
       "    <tr>\n",
       "      <th>OpeNER_en</th>\n",
       "      <td>224.0</td>\n",
       "      <td>32.0</td>\n",
       "      <td>3.0</td>\n",
       "      <td>0.14</td>\n",
       "      <td>258.0</td>\n",
       "      <td>8.0</td>\n",
       "      <td>1.15</td>\n",
       "      <td>326.0</td>\n",
       "      <td>11.0</td>\n",
       "      <td>1.46</td>\n",
       "    </tr>\n",
       "  </tbody>\n",
       "</table>\n",
       "</div>"
      ],
      "text/plain": [
       "                total_sentence  source_count  source_max_count  \\\n",
       "Dataset                                                          \n",
       "Darmstadt_unis           225.0           8.0               2.0   \n",
       "MPQA                    1990.0         293.0               2.0   \n",
       "OpeNER_en                224.0          32.0               3.0   \n",
       "\n",
       "                source_avg_count  target_count  target_max_count  \\\n",
       "Dataset                                                            \n",
       "Darmstadt_unis              0.04          85.0               3.0   \n",
       "MPQA                        0.15         426.0               4.0   \n",
       "OpeNER_en                   0.14         258.0               8.0   \n",
       "\n",
       "                target_avg_count  exp_count  exp_max_count  exp_avg_count  \n",
       "Dataset                                                                    \n",
       "Darmstadt_unis              0.38       90.0            3.0           0.40  \n",
       "MPQA                        0.21      486.0            4.0           0.24  \n",
       "OpeNER_en                   1.15      326.0           11.0           1.46  "
      ]
     },
     "execution_count": 59,
     "metadata": {},
     "output_type": "execute_result"
    }
   ],
   "source": [
    "data_preprocessing_all(df_eval)"
   ]
  },
  {
   "cell_type": "markdown",
   "id": "c72cd6f4-7127-4c5d-afe1-5bda52909da4",
   "metadata": {},
   "source": [
    "# Data balancing (Optional)"
   ]
  },
  {
   "cell_type": "code",
   "execution_count": 21,
   "id": "081c3a63-132e-4637-996c-cba45601f544",
   "metadata": {},
   "outputs": [
    {
     "name": "stderr",
     "output_type": "stream",
     "text": [
      "/opt/conda/lib/python3.7/site-packages/ipykernel_launcher.py:2: SettingWithCopyWarning: \n",
      "A value is trying to be set on a copy of a slice from a DataFrame.\n",
      "Try using .loc[row_indexer,col_indexer] = value instead\n",
      "\n",
      "See the caveats in the documentation: https://pandas.pydata.org/pandas-docs/stable/user_guide/indexing.html#returning-a-view-versus-a-copy\n",
      "  \n"
     ]
    }
   ],
   "source": [
    "categorical_mapping = {\"B-SOURCE\": \"SOURCE\",\"I-SOURCE\": \"SOURCE\",\"B-TARGET\": \"TARGET\",\"I-TARGET\": \"TARGET\",\"I-EXPRESSION\": \"EXPRESSION\",\"B-EXPRESSION\": \"EXPRESSION\",\"O\":\"O\"}\n",
    "train_data['label_category'] = train_data['labels'].apply(lambda x: categorical_mapping[x])"
   ]
  },
  {
   "cell_type": "code",
   "execution_count": 22,
   "id": "d84fa11c-e492-4fa9-9baf-5f4c87445821",
   "metadata": {},
   "outputs": [],
   "source": [
    "train_data_sentence = train_data.groupby('sentence_id').agg(lambda x: list(x)).reset_index()\n",
    "train_data = train_data.groupby('sentence_id').agg({\"labels\": \"nunique\",\"label_category\": \"nunique\"}).reset_index()"
   ]
  },
  {
   "cell_type": "code",
   "execution_count": 23,
   "id": "7f622668-6508-4985-9278-ec9ea7e395b3",
   "metadata": {},
   "outputs": [
    {
     "data": {
      "text/plain": [
       "1    6380\n",
       "3    1929\n",
       "4    1055\n",
       "2     134\n",
       "Name: label_category, dtype: int64"
      ]
     },
     "execution_count": 23,
     "metadata": {},
     "output_type": "execute_result"
    }
   ],
   "source": [
    "train_data.label_category.value_counts()"
   ]
  },
  {
   "cell_type": "code",
   "execution_count": 24,
   "id": "7a750505-e3b5-417b-9c85-5848629c9886",
   "metadata": {},
   "outputs": [],
   "source": [
    "unbalanced_data = train_data_sentence.merge(train_data,on=\"sentence_id\")"
   ]
  },
  {
   "cell_type": "code",
   "execution_count": 25,
   "id": "4410f302-eb5d-496f-b389-3911f58c915c",
   "metadata": {},
   "outputs": [
    {
     "data": {
      "text/plain": [
       "1    6380\n",
       "3    1929\n",
       "4    1055\n",
       "2     134\n",
       "Name: label_category_y, dtype: int64"
      ]
     },
     "execution_count": 25,
     "metadata": {},
     "output_type": "execute_result"
    }
   ],
   "source": [
    "unbalanced_data.label_category_y.value_counts()"
   ]
  },
  {
   "cell_type": "code",
   "execution_count": 26,
   "id": "257ffc2f-7c4b-4c5e-9ca1-f22fae7f1a4c",
   "metadata": {},
   "outputs": [],
   "source": [
    "upsample_cate_3 = unbalanced_data.query(\"label_category_y == 3 or label_category_y == 2\").sample(frac=2, replace=True, random_state=1)\n",
    "upsample_cate_4 = unbalanced_data.query(\"label_category_y == 4\").sample(frac=2, replace=True, random_state=1)\n",
    "#upsample_cate_2 = unbalanced_data.query(\"label_category_y == 2\").sample(frac=1, replace=True, random_state=1)\n",
    "upsample_cate_1 = unbalanced_data.query(\"label_category_y == 1\")"
   ]
  },
  {
   "cell_type": "code",
   "execution_count": 27,
   "id": "2959710d-777d-49fb-ac19-01f239b934fd",
   "metadata": {},
   "outputs": [],
   "source": [
    "# combine dataset, and shuffle\n",
    "balanced_data = pd.concat([upsample_cate_3,upsample_cate_4,upsample_cate_1]).sample(frac=1)"
   ]
  },
  {
   "cell_type": "code",
   "execution_count": 28,
   "id": "9af46e25-1eef-4fbc-b137-aebb1e77458d",
   "metadata": {},
   "outputs": [
    {
     "data": {
      "text/plain": [
       "1    6380\n",
       "3    3858\n",
       "4    2110\n",
       "2     268\n",
       "Name: label_category_y, dtype: int64"
      ]
     },
     "execution_count": 28,
     "metadata": {},
     "output_type": "execute_result"
    }
   ],
   "source": [
    "balanced_data.label_category_y.value_counts()"
   ]
  },
  {
   "cell_type": "code",
   "execution_count": 29,
   "id": "7ae2a938-8ed3-4b79-9b4c-d3708360ef4c",
   "metadata": {},
   "outputs": [
    {
     "data": {
      "text/html": [
       "<div>\n",
       "<style scoped>\n",
       "    .dataframe tbody tr th:only-of-type {\n",
       "        vertical-align: middle;\n",
       "    }\n",
       "\n",
       "    .dataframe tbody tr th {\n",
       "        vertical-align: top;\n",
       "    }\n",
       "\n",
       "    .dataframe thead th {\n",
       "        text-align: right;\n",
       "    }\n",
       "</style>\n",
       "<table border=\"1\" class=\"dataframe\">\n",
       "  <thead>\n",
       "    <tr style=\"text-align: right;\">\n",
       "      <th></th>\n",
       "      <th>sentence_id</th>\n",
       "      <th>words</th>\n",
       "      <th>labels_x</th>\n",
       "      <th>label_category_x</th>\n",
       "      <th>labels_y</th>\n",
       "      <th>label_category_y</th>\n",
       "    </tr>\n",
       "  </thead>\n",
       "  <tbody>\n",
       "    <tr>\n",
       "      <th>418</th>\n",
       "      <td>../opener/en/kaf/hotel/english00053_37db4002a5...</td>\n",
       "      <td>[The, hotel, is, working, together, with, diff...</td>\n",
       "      <td>[B-TARGET, I-TARGET, O, B-EXPRESSION, I-EXPRES...</td>\n",
       "      <td>[TARGET, TARGET, O, EXPRESSION, EXPRESSION, EX...</td>\n",
       "      <td>5</td>\n",
       "      <td>3</td>\n",
       "    </tr>\n",
       "    <tr>\n",
       "      <th>6779</th>\n",
       "      <td>non_fbis/09.53.15-23595-24</td>\n",
       "      <td>[As, tanks, surrounded, Miraflores, ,, Mr, Cha...</td>\n",
       "      <td>[O, O, O, O, O, O, O, O, O, O, O, O, O, O, O, ...</td>\n",
       "      <td>[O, O, O, O, O, O, O, O, O, O, O, O, O, O, O, ...</td>\n",
       "      <td>1</td>\n",
       "      <td>1</td>\n",
       "    </tr>\n",
       "    <tr>\n",
       "      <th>1430</th>\n",
       "      <td>../opener/en/kaf/hotel/english00173_d11c0a69dd...</td>\n",
       "      <td>[Front, desk, is, extremely, well, trained, an...</td>\n",
       "      <td>[B-TARGET, I-TARGET, O, B-EXPRESSION, I-EXPRES...</td>\n",
       "      <td>[TARGET, TARGET, O, EXPRESSION, EXPRESSION, EX...</td>\n",
       "      <td>5</td>\n",
       "      <td>3</td>\n",
       "    </tr>\n",
       "    <tr>\n",
       "      <th>5331</th>\n",
       "      <td>University_of_Phoenix_Online_18_04-04-2008-15</td>\n",
       "      <td>[I, found, them, to, be, a, waste, of, time, a...</td>\n",
       "      <td>[O, O, B-TARGET, O, O, O, B-EXPRESSION, I-EXPR...</td>\n",
       "      <td>[O, O, TARGET, O, O, O, EXPRESSION, EXPRESSION...</td>\n",
       "      <td>4</td>\n",
       "      <td>3</td>\n",
       "    </tr>\n",
       "    <tr>\n",
       "      <th>891</th>\n",
       "      <td>../opener/en/kaf/hotel/english00103_9470bc3be0...</td>\n",
       "      <td>[We, had, a, very, enjoyable, stay, at, the, h...</td>\n",
       "      <td>[O, O, O, B-EXPRESSION, I-EXPRESSION, B-TARGET...</td>\n",
       "      <td>[O, O, O, EXPRESSION, EXPRESSION, TARGET, O, O...</td>\n",
       "      <td>4</td>\n",
       "      <td>3</td>\n",
       "    </tr>\n",
       "  </tbody>\n",
       "</table>\n",
       "</div>"
      ],
      "text/plain": [
       "                                            sentence_id  \\\n",
       "418   ../opener/en/kaf/hotel/english00053_37db4002a5...   \n",
       "6779                         non_fbis/09.53.15-23595-24   \n",
       "1430  ../opener/en/kaf/hotel/english00173_d11c0a69dd...   \n",
       "5331      University_of_Phoenix_Online_18_04-04-2008-15   \n",
       "891   ../opener/en/kaf/hotel/english00103_9470bc3be0...   \n",
       "\n",
       "                                                  words  \\\n",
       "418   [The, hotel, is, working, together, with, diff...   \n",
       "6779  [As, tanks, surrounded, Miraflores, ,, Mr, Cha...   \n",
       "1430  [Front, desk, is, extremely, well, trained, an...   \n",
       "5331  [I, found, them, to, be, a, waste, of, time, a...   \n",
       "891   [We, had, a, very, enjoyable, stay, at, the, h...   \n",
       "\n",
       "                                               labels_x  \\\n",
       "418   [B-TARGET, I-TARGET, O, B-EXPRESSION, I-EXPRES...   \n",
       "6779  [O, O, O, O, O, O, O, O, O, O, O, O, O, O, O, ...   \n",
       "1430  [B-TARGET, I-TARGET, O, B-EXPRESSION, I-EXPRES...   \n",
       "5331  [O, O, B-TARGET, O, O, O, B-EXPRESSION, I-EXPR...   \n",
       "891   [O, O, O, B-EXPRESSION, I-EXPRESSION, B-TARGET...   \n",
       "\n",
       "                                       label_category_x  labels_y  \\\n",
       "418   [TARGET, TARGET, O, EXPRESSION, EXPRESSION, EX...         5   \n",
       "6779  [O, O, O, O, O, O, O, O, O, O, O, O, O, O, O, ...         1   \n",
       "1430  [TARGET, TARGET, O, EXPRESSION, EXPRESSION, EX...         5   \n",
       "5331  [O, O, TARGET, O, O, O, EXPRESSION, EXPRESSION...         4   \n",
       "891   [O, O, O, EXPRESSION, EXPRESSION, TARGET, O, O...         4   \n",
       "\n",
       "      label_category_y  \n",
       "418                  3  \n",
       "6779                 1  \n",
       "1430                 3  \n",
       "5331                 3  \n",
       "891                  3  "
      ]
     },
     "execution_count": 29,
     "metadata": {},
     "output_type": "execute_result"
    }
   ],
   "source": [
    "balanced_data.head()"
   ]
  },
  {
   "cell_type": "code",
   "execution_count": 30,
   "id": "a70b621a-4116-49ae-86e8-9355e814a076",
   "metadata": {},
   "outputs": [],
   "source": [
    "def data_preprocessing_all(df):\n",
    "    column_names = [\"sentence_id\",\"words\",\"labels\"]\n",
    "    result = pd.DataFrame(columns = column_names)\n",
    "    for index,row in df.iterrows():\n",
    "        for i in range(len(row['words'])):\n",
    "            df2 = {'sentence_id': row['sentence_id'], 'words': row['words'][i], 'labels_x':row['labels_x'][i]}\n",
    "            result = result.append(df2, ignore_index = True)\n",
    "    return result"
   ]
  },
  {
   "cell_type": "code",
   "execution_count": 31,
   "id": "3b1476f0-ca50-4b07-9e33-350fba0d0e23",
   "metadata": {},
   "outputs": [],
   "source": [
    "train_data_packed = balanced_data.drop(['label_category_x','labels_y','label_category_y'], axis=1)\n",
    "w = train_data_packed.apply(lambda x: pd.Series(x['words']),axis=1).stack().reset_index(level=1, drop=True)\n",
    "w.name = 'words'\n",
    "train_data_final = train_data_packed.drop(['words','labels_x'], axis=1).join(w)"
   ]
  },
  {
   "cell_type": "code",
   "execution_count": 32,
   "id": "0a1e74e6-be78-4850-ba8c-5aa240c6aca0",
   "metadata": {},
   "outputs": [],
   "source": [
    "train_data_packed = balanced_data.drop(['label_category_x','labels_y','label_category_y'], axis=1)\n",
    "l = train_data_packed.apply(lambda x: pd.Series(x['labels_x']),axis=1).stack().reset_index(level=1, drop=True)\n",
    "l.name = 'labels_x'\n",
    "train_data_final_2 = train_data_packed.drop(['words','labels_x'], axis=1).join(l)"
   ]
  },
  {
   "cell_type": "code",
   "execution_count": 33,
   "id": "5be03097-e518-4894-9c95-22ee78f7c384",
   "metadata": {},
   "outputs": [],
   "source": [
    "train_data_final[\"labels\"] = train_data_final_2['labels_x']"
   ]
  },
  {
   "cell_type": "code",
   "execution_count": null,
   "id": "e05b8ce5-bcc5-4a1c-b274-8158c66c311f",
   "metadata": {},
   "outputs": [],
   "source": [
    "train_data = train_data_final"
   ]
  },
  {
   "cell_type": "markdown",
   "id": "c8bdb74e-10c6-4ee5-be03-a032f1fc7825",
   "metadata": {},
   "source": [
    "# Baseline model with NLTK POS tagging"
   ]
  },
  {
   "cell_type": "code",
   "execution_count": 42,
   "id": "98f706ad-658a-4da3-954a-5aa902fdf8dd",
   "metadata": {},
   "outputs": [],
   "source": [
    "eval_data_baseline = eval_data.groupby('sentence_id').agg(lambda x: list(x)).reset_index()"
   ]
  },
  {
   "cell_type": "code",
   "execution_count": 45,
   "id": "35a95e52-6c21-4382-89b7-7476a67fcc5d",
   "metadata": {},
   "outputs": [],
   "source": [
    "#NN\tnoun, singular (cat, tree)\n",
    "#NNS\tnoun plural (desks)\n",
    "#NNP\tproper noun, singular (sarah)\n",
    "#NNPS\tproper noun, plural (indians or americans)\n",
    "#PRP\tpersonal pronoun (hers, herself, him, himself)\n",
    "#PRP$\tpossessive pronoun (her, his, mine, my, our )\n",
    "#VB\tverb (ask)\n",
    "#VBG\tverb gerund (judging)\n",
    "#VBD\tverb past tense (pleaded)\n",
    "#VBN\tverb past participle (reunified)\n",
    "#VBP\tverb, present tense not 3rd person singular(wrap)\n",
    "#VBZ\tverb, present tense with 3rd person singular (bases)\n",
    "pos_mapping = {\"PRP\": \"B-SOURCE\",\"PRP$\": \"B-SOURCE\",\"NN\": \"B-TARGET\",\"NNS\": \"B-TARGET\",\"NNP\": \"B-TARGET\",\"NNPS\": \"B-TARGET\",\"VBZ\": \"B-EXPRESSION\",\"VBP\": \"B-EXPRESSION\",\"VBN\": \"B-EXPRESSION\",\"VBD\": \"B-EXPRESSION\",\"VBG\": \"B-EXPRESSION\",\"VB\": \"B-EXPRESSION\",}"
   ]
  },
  {
   "cell_type": "code",
   "execution_count": 52,
   "id": "bcb344c4-b2e0-4885-bcc5-d1e62d9d9334",
   "metadata": {},
   "outputs": [
    {
     "data": {
      "text/html": [
       "<div>\n",
       "<style scoped>\n",
       "    .dataframe tbody tr th:only-of-type {\n",
       "        vertical-align: middle;\n",
       "    }\n",
       "\n",
       "    .dataframe tbody tr th {\n",
       "        vertical-align: top;\n",
       "    }\n",
       "\n",
       "    .dataframe thead th {\n",
       "        text-align: right;\n",
       "    }\n",
       "</style>\n",
       "<table border=\"1\" class=\"dataframe\">\n",
       "  <thead>\n",
       "    <tr style=\"text-align: right;\">\n",
       "      <th></th>\n",
       "      <th>sentence_id</th>\n",
       "      <th>words</th>\n",
       "      <th>labels</th>\n",
       "      <th>pos_tag</th>\n",
       "    </tr>\n",
       "  </thead>\n",
       "  <tbody>\n",
       "    <tr>\n",
       "      <th>0</th>\n",
       "      <td>../opener/en/kaf/hotel/english00011_131b37a0eb...</td>\n",
       "      <td>[Sri, Lanka, ·, we, will, come, again, !]</td>\n",
       "      <td>[B-TARGET, I-TARGET, O, B-SOURCE, B-EXPRESSION...</td>\n",
       "      <td>[NNP, NNP, NNP, PRP, MD, VB, RB, .]</td>\n",
       "    </tr>\n",
       "    <tr>\n",
       "      <th>1</th>\n",
       "      <td>../opener/en/kaf/hotel/english00011_131b37a0eb...</td>\n",
       "      <td>[We, had, a, wonderful, stay, in, Sri, Lanka, .]</td>\n",
       "      <td>[B-SOURCE, O, O, B-EXPRESSION, B-TARGET, O, O,...</td>\n",
       "      <td>[PRP, VBD, DT, JJ, NN, IN, NNP, NNP, .]</td>\n",
       "    </tr>\n",
       "    <tr>\n",
       "      <th>2</th>\n",
       "      <td>../opener/en/kaf/hotel/english00011_131b37a0eb...</td>\n",
       "      <td>[Everybody, was, very, kind, ·, country, is, b...</td>\n",
       "      <td>[O, O, O, O, O, O, O, O, O]</td>\n",
       "      <td>[NN, VBD, RB, NN, JJ, NN, VBZ, JJ, .]</td>\n",
       "    </tr>\n",
       "    <tr>\n",
       "      <th>3</th>\n",
       "      <td>../opener/en/kaf/hotel/english00011_131b37a0eb...</td>\n",
       "      <td>[The, staff, at, the, Club, Hotel, Dolphin, wa...</td>\n",
       "      <td>[B-TARGET, I-TARGET, O, O, O, O, O, O, B-EXPRE...</td>\n",
       "      <td>[DT, NN, IN, DT, NNP, NNP, NNP, VBD, RB, JJ, ,...</td>\n",
       "    </tr>\n",
       "    <tr>\n",
       "      <th>4</th>\n",
       "      <td>../opener/en/kaf/hotel/english00011_131b37a0eb...</td>\n",
       "      <td>[We, will, come, again, !]</td>\n",
       "      <td>[B-SOURCE, B-EXPRESSION, I-EXPRESSION, I-EXPRE...</td>\n",
       "      <td>[PRP, MD, VB, RB, .]</td>\n",
       "    </tr>\n",
       "    <tr>\n",
       "      <th>...</th>\n",
       "      <td>...</td>\n",
       "      <td>...</td>\n",
       "      <td>...</td>\n",
       "      <td>...</td>\n",
       "    </tr>\n",
       "    <tr>\n",
       "      <th>2434</th>\n",
       "      <td>xbank/wsj_1038-4</td>\n",
       "      <td>[In, over, -, the-counter, trading, yesterday,...</td>\n",
       "      <td>[O, O, O, O, O, O, O, O, O, O, O, O, O, O, O, O]</td>\n",
       "      <td>[IN, IN, :, JJ, NN, NN, ,, NNP, NNP, VBD, CD, ...</td>\n",
       "    </tr>\n",
       "    <tr>\n",
       "      <th>2435</th>\n",
       "      <td>xbank/wsj_1038-5</td>\n",
       "      <td>[The, company, said, the, restructuring, 's, i...</td>\n",
       "      <td>[O, O, O, O, O, O, O, O, O, O, O, O, O, O, O, ...</td>\n",
       "      <td>[DT, NN, VBD, DT, NN, POS, JJ, NN, MD, VB, DT,...</td>\n",
       "    </tr>\n",
       "    <tr>\n",
       "      <th>2436</th>\n",
       "      <td>xbank/wsj_1038-6</td>\n",
       "      <td>[The, plan, may, include, selling, branches, ,...</td>\n",
       "      <td>[O, O, O, O, O, O, O, O, O, O, O, O, O, O, O, ...</td>\n",
       "      <td>[DT, NN, MD, VB, VBG, NNS, ,, VBG, CC, VBG, NN...</td>\n",
       "    </tr>\n",
       "    <tr>\n",
       "      <th>2437</th>\n",
       "      <td>xbank/wsj_1038-7</td>\n",
       "      <td>[Initially, ,, the, company, said, it, will, c...</td>\n",
       "      <td>[O, O, O, O, O, O, O, O, O, O, O, O, O, O, O, ...</td>\n",
       "      <td>[RB, ,, DT, NN, VBD, PRP, MD, VB, PRP$, JJ, NN...</td>\n",
       "    </tr>\n",
       "    <tr>\n",
       "      <th>2438</th>\n",
       "      <td>xbank/wsj_1038-8</td>\n",
       "      <td>[Details, of, the, restructuring, wo, n't, be,...</td>\n",
       "      <td>[O, O, O, O, O, O, O, O, O, O, O, O, O, O, O, ...</td>\n",
       "      <td>[NNS, IN, DT, NN, MD, RB, VB, VBN, JJ, IN, NNS...</td>\n",
       "    </tr>\n",
       "  </tbody>\n",
       "</table>\n",
       "<p>2439 rows × 4 columns</p>\n",
       "</div>"
      ],
      "text/plain": [
       "                                            sentence_id  \\\n",
       "0     ../opener/en/kaf/hotel/english00011_131b37a0eb...   \n",
       "1     ../opener/en/kaf/hotel/english00011_131b37a0eb...   \n",
       "2     ../opener/en/kaf/hotel/english00011_131b37a0eb...   \n",
       "3     ../opener/en/kaf/hotel/english00011_131b37a0eb...   \n",
       "4     ../opener/en/kaf/hotel/english00011_131b37a0eb...   \n",
       "...                                                 ...   \n",
       "2434                                   xbank/wsj_1038-4   \n",
       "2435                                   xbank/wsj_1038-5   \n",
       "2436                                   xbank/wsj_1038-6   \n",
       "2437                                   xbank/wsj_1038-7   \n",
       "2438                                   xbank/wsj_1038-8   \n",
       "\n",
       "                                                  words  \\\n",
       "0             [Sri, Lanka, ·, we, will, come, again, !]   \n",
       "1      [We, had, a, wonderful, stay, in, Sri, Lanka, .]   \n",
       "2     [Everybody, was, very, kind, ·, country, is, b...   \n",
       "3     [The, staff, at, the, Club, Hotel, Dolphin, wa...   \n",
       "4                            [We, will, come, again, !]   \n",
       "...                                                 ...   \n",
       "2434  [In, over, -, the-counter, trading, yesterday,...   \n",
       "2435  [The, company, said, the, restructuring, 's, i...   \n",
       "2436  [The, plan, may, include, selling, branches, ,...   \n",
       "2437  [Initially, ,, the, company, said, it, will, c...   \n",
       "2438  [Details, of, the, restructuring, wo, n't, be,...   \n",
       "\n",
       "                                                 labels  \\\n",
       "0     [B-TARGET, I-TARGET, O, B-SOURCE, B-EXPRESSION...   \n",
       "1     [B-SOURCE, O, O, B-EXPRESSION, B-TARGET, O, O,...   \n",
       "2                           [O, O, O, O, O, O, O, O, O]   \n",
       "3     [B-TARGET, I-TARGET, O, O, O, O, O, O, B-EXPRE...   \n",
       "4     [B-SOURCE, B-EXPRESSION, I-EXPRESSION, I-EXPRE...   \n",
       "...                                                 ...   \n",
       "2434   [O, O, O, O, O, O, O, O, O, O, O, O, O, O, O, O]   \n",
       "2435  [O, O, O, O, O, O, O, O, O, O, O, O, O, O, O, ...   \n",
       "2436  [O, O, O, O, O, O, O, O, O, O, O, O, O, O, O, ...   \n",
       "2437  [O, O, O, O, O, O, O, O, O, O, O, O, O, O, O, ...   \n",
       "2438  [O, O, O, O, O, O, O, O, O, O, O, O, O, O, O, ...   \n",
       "\n",
       "                                                pos_tag  \n",
       "0                   [NNP, NNP, NNP, PRP, MD, VB, RB, .]  \n",
       "1               [PRP, VBD, DT, JJ, NN, IN, NNP, NNP, .]  \n",
       "2                 [NN, VBD, RB, NN, JJ, NN, VBZ, JJ, .]  \n",
       "3     [DT, NN, IN, DT, NNP, NNP, NNP, VBD, RB, JJ, ,...  \n",
       "4                                  [PRP, MD, VB, RB, .]  \n",
       "...                                                 ...  \n",
       "2434  [IN, IN, :, JJ, NN, NN, ,, NNP, NNP, VBD, CD, ...  \n",
       "2435  [DT, NN, VBD, DT, NN, POS, JJ, NN, MD, VB, DT,...  \n",
       "2436  [DT, NN, MD, VB, VBG, NNS, ,, VBG, CC, VBG, NN...  \n",
       "2437  [RB, ,, DT, NN, VBD, PRP, MD, VB, PRP$, JJ, NN...  \n",
       "2438  [NNS, IN, DT, NN, MD, RB, VB, VBN, JJ, IN, NNS...  \n",
       "\n",
       "[2439 rows x 4 columns]"
      ]
     },
     "execution_count": 52,
     "metadata": {},
     "output_type": "execute_result"
    }
   ],
   "source": [
    "eval_data_baseline"
   ]
  },
  {
   "cell_type": "code",
   "execution_count": 49,
   "id": "d8fcee51-b0b9-4ec2-b76f-68d1b3691485",
   "metadata": {},
   "outputs": [],
   "source": [
    "def generate_pos_tagging(df):\n",
    "    result = []\n",
    "    for index,row in df.iterrows():\n",
    "        tags = []\n",
    "        pos_tag = nltk.pos_tag(row['words']) \n",
    "        for i in range(len(row['words'])):\n",
    "            tags.append(pos_tag[i][1])\n",
    "        result.append(tags)\n",
    "    return result"
   ]
  },
  {
   "cell_type": "code",
   "execution_count": 53,
   "id": "886a547d-8bd5-4a6f-b32f-fa58857f6200",
   "metadata": {},
   "outputs": [],
   "source": [
    "def map_pos_tag(df):\n",
    "    result = []\n",
    "    for index,row in df.iterrows():\n",
    "        tags = []\n",
    "        for i in range(len(row['words'])):\n",
    "            tag = row['pos_tag'][i]\n",
    "            if tag in pos_mapping.keys(): \n",
    "                tags.append(pos_mapping[row['pos_tag'][i]])\n",
    "            else:\n",
    "                tags.append(\"O\")\n",
    "        result.append(tags)\n",
    "    return result"
   ]
  },
  {
   "cell_type": "code",
   "execution_count": 60,
   "id": "698d2003-ef4c-460c-afce-5e8617bde9c1",
   "metadata": {},
   "outputs": [],
   "source": [
    "def predict_o_only(df):\n",
    "    result = []\n",
    "    for index,row in df.iterrows():\n",
    "        tags = []\n",
    "        for i in range(len(row['words'])):\n",
    "            tags.append(\"O\")\n",
    "        result.append(tags)\n",
    "    return result"
   ]
  },
  {
   "cell_type": "code",
   "execution_count": 61,
   "id": "4808c7ad-c67b-4f7a-9bec-1a84e6dab050",
   "metadata": {
    "scrolled": true,
    "tags": []
   },
   "outputs": [],
   "source": [
    "eval_data_baseline['pos_tag'] = generate_pos_tagging(eval_data_baseline)\n",
    "eval_data_baseline['pos_tag_label'] = map_pos_tag(eval_data_baseline)\n",
    "eval_data_baseline['o_only_label'] = predict_o_only(eval_data_baseline)"
   ]
  },
  {
   "cell_type": "code",
   "execution_count": 57,
   "id": "fe5c799f-62ee-43d8-88a7-abd9f674c135",
   "metadata": {},
   "outputs": [],
   "source": [
    "expression_label = 'EXPRESSION'\n",
    "target_label = 'TARGET'\n",
    "source_label = 'SOURCE'\n",
    "def get_tag_report(df, preds_list):\n",
    "    output_view = df.copy()\n",
    "    output_view['prediction'] = [item for sublist in preds_list for item in sublist]\n",
    "    output_view['target_label'] = output_view.apply(lambda row: target_label in row['labels'], axis=1)\n",
    "    output_view['target_pred'] = output_view.apply(lambda row: target_label in row['prediction'], axis=1)\n",
    "    output_view['source_label'] = output_view.apply(lambda row: source_label in row['labels'], axis=1)\n",
    "    output_view['source_pred'] = output_view.apply(lambda row: source_label in row['prediction'], axis=1)\n",
    "    output_view['expression_label'] = output_view.apply(lambda row: expression_label in row['labels'], axis=1)\n",
    "    output_view['expression_pred'] = output_view.apply(lambda row: expression_label in row['prediction'], axis=1)\n",
    "    \n",
    "    target_report = metrics.classification_report(output_view['target_label'], output_view['target_pred'])\n",
    "    source_report = metrics.classification_report(output_view['source_label'], output_view['source_pred'])\n",
    "    expression_report = metrics.classification_report(output_view['expression_label'], output_view['expression_pred'])\n",
    "    print(\"Target Report\")\n",
    "    print(target_report)\n",
    "    print(\"Source Report\")\n",
    "    print(source_report)\n",
    "    print(\"Expression Report\")\n",
    "    print(expression_report)\n",
    "    "
   ]
  },
  {
   "cell_type": "code",
   "execution_count": 58,
   "id": "fec2d0e6-70dc-4eb2-a281-540ca9a23c00",
   "metadata": {},
   "outputs": [
    {
     "data": {
      "text/html": [
       "<div>\n",
       "<style scoped>\n",
       "    .dataframe tbody tr th:only-of-type {\n",
       "        vertical-align: middle;\n",
       "    }\n",
       "\n",
       "    .dataframe tbody tr th {\n",
       "        vertical-align: top;\n",
       "    }\n",
       "\n",
       "    .dataframe thead th {\n",
       "        text-align: right;\n",
       "    }\n",
       "</style>\n",
       "<table border=\"1\" class=\"dataframe\">\n",
       "  <thead>\n",
       "    <tr style=\"text-align: right;\">\n",
       "      <th></th>\n",
       "      <th>sentence_id</th>\n",
       "      <th>words</th>\n",
       "      <th>labels</th>\n",
       "      <th>pos_tag</th>\n",
       "      <th>pos_tag_label</th>\n",
       "    </tr>\n",
       "  </thead>\n",
       "  <tbody>\n",
       "    <tr>\n",
       "      <th>0</th>\n",
       "      <td>../opener/en/kaf/hotel/english00011_131b37a0eb...</td>\n",
       "      <td>[Sri, Lanka, ·, we, will, come, again, !]</td>\n",
       "      <td>[B-TARGET, I-TARGET, O, B-SOURCE, B-EXPRESSION...</td>\n",
       "      <td>[NNP, NNP, NNP, PRP, MD, VB, RB, .]</td>\n",
       "      <td>[B-TARGET, B-TARGET, B-TARGET, B-SOURCE, O, B-...</td>\n",
       "    </tr>\n",
       "    <tr>\n",
       "      <th>1</th>\n",
       "      <td>../opener/en/kaf/hotel/english00011_131b37a0eb...</td>\n",
       "      <td>[We, had, a, wonderful, stay, in, Sri, Lanka, .]</td>\n",
       "      <td>[B-SOURCE, O, O, B-EXPRESSION, B-TARGET, O, O,...</td>\n",
       "      <td>[PRP, VBD, DT, JJ, NN, IN, NNP, NNP, .]</td>\n",
       "      <td>[B-SOURCE, B-EXPRESSION, O, O, B-TARGET, O, B-...</td>\n",
       "    </tr>\n",
       "    <tr>\n",
       "      <th>2</th>\n",
       "      <td>../opener/en/kaf/hotel/english00011_131b37a0eb...</td>\n",
       "      <td>[Everybody, was, very, kind, ·, country, is, b...</td>\n",
       "      <td>[O, O, O, O, O, O, O, O, O]</td>\n",
       "      <td>[NN, VBD, RB, NN, JJ, NN, VBZ, JJ, .]</td>\n",
       "      <td>[B-TARGET, B-EXPRESSION, O, B-TARGET, O, B-TAR...</td>\n",
       "    </tr>\n",
       "    <tr>\n",
       "      <th>3</th>\n",
       "      <td>../opener/en/kaf/hotel/english00011_131b37a0eb...</td>\n",
       "      <td>[The, staff, at, the, Club, Hotel, Dolphin, wa...</td>\n",
       "      <td>[B-TARGET, I-TARGET, O, O, O, O, O, O, B-EXPRE...</td>\n",
       "      <td>[DT, NN, IN, DT, NNP, NNP, NNP, VBD, RB, JJ, ,...</td>\n",
       "      <td>[O, B-TARGET, O, O, B-TARGET, B-TARGET, B-TARG...</td>\n",
       "    </tr>\n",
       "    <tr>\n",
       "      <th>4</th>\n",
       "      <td>../opener/en/kaf/hotel/english00011_131b37a0eb...</td>\n",
       "      <td>[We, will, come, again, !]</td>\n",
       "      <td>[B-SOURCE, B-EXPRESSION, I-EXPRESSION, I-EXPRE...</td>\n",
       "      <td>[PRP, MD, VB, RB, .]</td>\n",
       "      <td>[B-SOURCE, O, B-EXPRESSION, O, O]</td>\n",
       "    </tr>\n",
       "    <tr>\n",
       "      <th>...</th>\n",
       "      <td>...</td>\n",
       "      <td>...</td>\n",
       "      <td>...</td>\n",
       "      <td>...</td>\n",
       "      <td>...</td>\n",
       "    </tr>\n",
       "    <tr>\n",
       "      <th>2434</th>\n",
       "      <td>xbank/wsj_1038-4</td>\n",
       "      <td>[In, over, -, the-counter, trading, yesterday,...</td>\n",
       "      <td>[O, O, O, O, O, O, O, O, O, O, O, O, O, O, O, O]</td>\n",
       "      <td>[IN, IN, :, JJ, NN, NN, ,, NNP, NNP, VBD, CD, ...</td>\n",
       "      <td>[O, O, O, O, B-TARGET, B-TARGET, O, B-TARGET, ...</td>\n",
       "    </tr>\n",
       "    <tr>\n",
       "      <th>2435</th>\n",
       "      <td>xbank/wsj_1038-5</td>\n",
       "      <td>[The, company, said, the, restructuring, 's, i...</td>\n",
       "      <td>[O, O, O, O, O, O, O, O, O, O, O, O, O, O, O, ...</td>\n",
       "      <td>[DT, NN, VBD, DT, NN, POS, JJ, NN, MD, VB, DT,...</td>\n",
       "      <td>[O, B-TARGET, B-EXPRESSION, O, B-TARGET, O, O,...</td>\n",
       "    </tr>\n",
       "    <tr>\n",
       "      <th>2436</th>\n",
       "      <td>xbank/wsj_1038-6</td>\n",
       "      <td>[The, plan, may, include, selling, branches, ,...</td>\n",
       "      <td>[O, O, O, O, O, O, O, O, O, O, O, O, O, O, O, ...</td>\n",
       "      <td>[DT, NN, MD, VB, VBG, NNS, ,, VBG, CC, VBG, NN...</td>\n",
       "      <td>[O, B-TARGET, O, B-EXPRESSION, B-EXPRESSION, B...</td>\n",
       "    </tr>\n",
       "    <tr>\n",
       "      <th>2437</th>\n",
       "      <td>xbank/wsj_1038-7</td>\n",
       "      <td>[Initially, ,, the, company, said, it, will, c...</td>\n",
       "      <td>[O, O, O, O, O, O, O, O, O, O, O, O, O, O, O, ...</td>\n",
       "      <td>[RB, ,, DT, NN, VBD, PRP, MD, VB, PRP$, JJ, NN...</td>\n",
       "      <td>[O, O, O, B-TARGET, B-EXPRESSION, B-SOURCE, O,...</td>\n",
       "    </tr>\n",
       "    <tr>\n",
       "      <th>2438</th>\n",
       "      <td>xbank/wsj_1038-8</td>\n",
       "      <td>[Details, of, the, restructuring, wo, n't, be,...</td>\n",
       "      <td>[O, O, O, O, O, O, O, O, O, O, O, O, O, O, O, ...</td>\n",
       "      <td>[NNS, IN, DT, NN, MD, RB, VB, VBN, JJ, IN, NNS...</td>\n",
       "      <td>[B-TARGET, O, O, B-TARGET, O, O, B-EXPRESSION,...</td>\n",
       "    </tr>\n",
       "  </tbody>\n",
       "</table>\n",
       "<p>2439 rows × 5 columns</p>\n",
       "</div>"
      ],
      "text/plain": [
       "                                            sentence_id  \\\n",
       "0     ../opener/en/kaf/hotel/english00011_131b37a0eb...   \n",
       "1     ../opener/en/kaf/hotel/english00011_131b37a0eb...   \n",
       "2     ../opener/en/kaf/hotel/english00011_131b37a0eb...   \n",
       "3     ../opener/en/kaf/hotel/english00011_131b37a0eb...   \n",
       "4     ../opener/en/kaf/hotel/english00011_131b37a0eb...   \n",
       "...                                                 ...   \n",
       "2434                                   xbank/wsj_1038-4   \n",
       "2435                                   xbank/wsj_1038-5   \n",
       "2436                                   xbank/wsj_1038-6   \n",
       "2437                                   xbank/wsj_1038-7   \n",
       "2438                                   xbank/wsj_1038-8   \n",
       "\n",
       "                                                  words  \\\n",
       "0             [Sri, Lanka, ·, we, will, come, again, !]   \n",
       "1      [We, had, a, wonderful, stay, in, Sri, Lanka, .]   \n",
       "2     [Everybody, was, very, kind, ·, country, is, b...   \n",
       "3     [The, staff, at, the, Club, Hotel, Dolphin, wa...   \n",
       "4                            [We, will, come, again, !]   \n",
       "...                                                 ...   \n",
       "2434  [In, over, -, the-counter, trading, yesterday,...   \n",
       "2435  [The, company, said, the, restructuring, 's, i...   \n",
       "2436  [The, plan, may, include, selling, branches, ,...   \n",
       "2437  [Initially, ,, the, company, said, it, will, c...   \n",
       "2438  [Details, of, the, restructuring, wo, n't, be,...   \n",
       "\n",
       "                                                 labels  \\\n",
       "0     [B-TARGET, I-TARGET, O, B-SOURCE, B-EXPRESSION...   \n",
       "1     [B-SOURCE, O, O, B-EXPRESSION, B-TARGET, O, O,...   \n",
       "2                           [O, O, O, O, O, O, O, O, O]   \n",
       "3     [B-TARGET, I-TARGET, O, O, O, O, O, O, B-EXPRE...   \n",
       "4     [B-SOURCE, B-EXPRESSION, I-EXPRESSION, I-EXPRE...   \n",
       "...                                                 ...   \n",
       "2434   [O, O, O, O, O, O, O, O, O, O, O, O, O, O, O, O]   \n",
       "2435  [O, O, O, O, O, O, O, O, O, O, O, O, O, O, O, ...   \n",
       "2436  [O, O, O, O, O, O, O, O, O, O, O, O, O, O, O, ...   \n",
       "2437  [O, O, O, O, O, O, O, O, O, O, O, O, O, O, O, ...   \n",
       "2438  [O, O, O, O, O, O, O, O, O, O, O, O, O, O, O, ...   \n",
       "\n",
       "                                                pos_tag  \\\n",
       "0                   [NNP, NNP, NNP, PRP, MD, VB, RB, .]   \n",
       "1               [PRP, VBD, DT, JJ, NN, IN, NNP, NNP, .]   \n",
       "2                 [NN, VBD, RB, NN, JJ, NN, VBZ, JJ, .]   \n",
       "3     [DT, NN, IN, DT, NNP, NNP, NNP, VBD, RB, JJ, ,...   \n",
       "4                                  [PRP, MD, VB, RB, .]   \n",
       "...                                                 ...   \n",
       "2434  [IN, IN, :, JJ, NN, NN, ,, NNP, NNP, VBD, CD, ...   \n",
       "2435  [DT, NN, VBD, DT, NN, POS, JJ, NN, MD, VB, DT,...   \n",
       "2436  [DT, NN, MD, VB, VBG, NNS, ,, VBG, CC, VBG, NN...   \n",
       "2437  [RB, ,, DT, NN, VBD, PRP, MD, VB, PRP$, JJ, NN...   \n",
       "2438  [NNS, IN, DT, NN, MD, RB, VB, VBN, JJ, IN, NNS...   \n",
       "\n",
       "                                          pos_tag_label  \n",
       "0     [B-TARGET, B-TARGET, B-TARGET, B-SOURCE, O, B-...  \n",
       "1     [B-SOURCE, B-EXPRESSION, O, O, B-TARGET, O, B-...  \n",
       "2     [B-TARGET, B-EXPRESSION, O, B-TARGET, O, B-TAR...  \n",
       "3     [O, B-TARGET, O, O, B-TARGET, B-TARGET, B-TARG...  \n",
       "4                     [B-SOURCE, O, B-EXPRESSION, O, O]  \n",
       "...                                                 ...  \n",
       "2434  [O, O, O, O, B-TARGET, B-TARGET, O, B-TARGET, ...  \n",
       "2435  [O, B-TARGET, B-EXPRESSION, O, B-TARGET, O, O,...  \n",
       "2436  [O, B-TARGET, O, B-EXPRESSION, B-EXPRESSION, B...  \n",
       "2437  [O, O, O, B-TARGET, B-EXPRESSION, B-SOURCE, O,...  \n",
       "2438  [B-TARGET, O, O, B-TARGET, O, O, B-EXPRESSION,...  \n",
       "\n",
       "[2439 rows x 5 columns]"
      ]
     },
     "execution_count": 58,
     "metadata": {},
     "output_type": "execute_result"
    }
   ],
   "source": [
    "eval_data_baseline"
   ]
  },
  {
   "cell_type": "code",
   "execution_count": 59,
   "id": "7990b4e3-6a1c-45ce-a99a-4d795b2c5015",
   "metadata": {},
   "outputs": [
    {
     "name": "stdout",
     "output_type": "stream",
     "text": [
      "Target Report\n",
      "              precision    recall  f1-score   support\n",
      "\n",
      "       False       0.95      0.71      0.81     51003\n",
      "        True       0.06      0.31      0.10      2901\n",
      "\n",
      "    accuracy                           0.69     53904\n",
      "   macro avg       0.50      0.51      0.45     53904\n",
      "weighted avg       0.90      0.69      0.77     53904\n",
      "\n",
      "Source Report\n",
      "              precision    recall  f1-score   support\n",
      "\n",
      "       False       0.98      0.96      0.97     53050\n",
      "        True       0.01      0.03      0.02       854\n",
      "\n",
      "    accuracy                           0.94     53904\n",
      "   macro avg       0.50      0.49      0.49     53904\n",
      "weighted avg       0.97      0.94      0.95     53904\n",
      "\n",
      "Expression Report\n",
      "              precision    recall  f1-score   support\n",
      "\n",
      "       False       0.97      0.85      0.91     52103\n",
      "        True       0.03      0.13      0.05      1801\n",
      "\n",
      "    accuracy                           0.83     53904\n",
      "   macro avg       0.50      0.49      0.48     53904\n",
      "weighted avg       0.93      0.83      0.88     53904\n",
      "\n"
     ]
    }
   ],
   "source": [
    "get_tag_report(eval_data, eval_data_baseline['pos_tag_label'])"
   ]
  },
  {
   "cell_type": "code",
   "execution_count": 62,
   "id": "a4056227-8cee-4d43-99c4-d3cf5b4d2885",
   "metadata": {
    "scrolled": true,
    "tags": []
   },
   "outputs": [
    {
     "name": "stdout",
     "output_type": "stream",
     "text": [
      "Target Report\n",
      "              precision    recall  f1-score   support\n",
      "\n",
      "       False       0.95      1.00      0.97     51003\n",
      "        True       0.00      0.00      0.00      2901\n",
      "\n",
      "    accuracy                           0.95     53904\n",
      "   macro avg       0.47      0.50      0.49     53904\n",
      "weighted avg       0.90      0.95      0.92     53904\n",
      "\n",
      "Source Report\n",
      "              precision    recall  f1-score   support\n",
      "\n",
      "       False       0.98      1.00      0.99     53050\n",
      "        True       0.00      0.00      0.00       854\n",
      "\n",
      "    accuracy                           0.98     53904\n",
      "   macro avg       0.49      0.50      0.50     53904\n",
      "weighted avg       0.97      0.98      0.98     53904\n",
      "\n",
      "Expression Report\n",
      "              precision    recall  f1-score   support\n",
      "\n",
      "       False       0.97      1.00      0.98     52103\n",
      "        True       0.00      0.00      0.00      1801\n",
      "\n",
      "    accuracy                           0.97     53904\n",
      "   macro avg       0.48      0.50      0.49     53904\n",
      "weighted avg       0.93      0.97      0.95     53904\n",
      "\n"
     ]
    },
    {
     "name": "stderr",
     "output_type": "stream",
     "text": [
      "/opt/conda/lib/python3.7/site-packages/sklearn/metrics/_classification.py:1308: UndefinedMetricWarning: Precision and F-score are ill-defined and being set to 0.0 in labels with no predicted samples. Use `zero_division` parameter to control this behavior.\n",
      "  _warn_prf(average, modifier, msg_start, len(result))\n",
      "/opt/conda/lib/python3.7/site-packages/sklearn/metrics/_classification.py:1308: UndefinedMetricWarning: Precision and F-score are ill-defined and being set to 0.0 in labels with no predicted samples. Use `zero_division` parameter to control this behavior.\n",
      "  _warn_prf(average, modifier, msg_start, len(result))\n",
      "/opt/conda/lib/python3.7/site-packages/sklearn/metrics/_classification.py:1308: UndefinedMetricWarning: Precision and F-score are ill-defined and being set to 0.0 in labels with no predicted samples. Use `zero_division` parameter to control this behavior.\n",
      "  _warn_prf(average, modifier, msg_start, len(result))\n",
      "/opt/conda/lib/python3.7/site-packages/sklearn/metrics/_classification.py:1308: UndefinedMetricWarning: Precision and F-score are ill-defined and being set to 0.0 in labels with no predicted samples. Use `zero_division` parameter to control this behavior.\n",
      "  _warn_prf(average, modifier, msg_start, len(result))\n",
      "/opt/conda/lib/python3.7/site-packages/sklearn/metrics/_classification.py:1308: UndefinedMetricWarning: Precision and F-score are ill-defined and being set to 0.0 in labels with no predicted samples. Use `zero_division` parameter to control this behavior.\n",
      "  _warn_prf(average, modifier, msg_start, len(result))\n",
      "/opt/conda/lib/python3.7/site-packages/sklearn/metrics/_classification.py:1308: UndefinedMetricWarning: Precision and F-score are ill-defined and being set to 0.0 in labels with no predicted samples. Use `zero_division` parameter to control this behavior.\n",
      "  _warn_prf(average, modifier, msg_start, len(result))\n",
      "/opt/conda/lib/python3.7/site-packages/sklearn/metrics/_classification.py:1308: UndefinedMetricWarning: Precision and F-score are ill-defined and being set to 0.0 in labels with no predicted samples. Use `zero_division` parameter to control this behavior.\n",
      "  _warn_prf(average, modifier, msg_start, len(result))\n",
      "/opt/conda/lib/python3.7/site-packages/sklearn/metrics/_classification.py:1308: UndefinedMetricWarning: Precision and F-score are ill-defined and being set to 0.0 in labels with no predicted samples. Use `zero_division` parameter to control this behavior.\n",
      "  _warn_prf(average, modifier, msg_start, len(result))\n",
      "/opt/conda/lib/python3.7/site-packages/sklearn/metrics/_classification.py:1308: UndefinedMetricWarning: Precision and F-score are ill-defined and being set to 0.0 in labels with no predicted samples. Use `zero_division` parameter to control this behavior.\n",
      "  _warn_prf(average, modifier, msg_start, len(result))\n"
     ]
    }
   ],
   "source": [
    "get_tag_report(eval_data, eval_data_baseline['o_only_label'])"
   ]
  },
  {
   "cell_type": "markdown",
   "id": "f8b56796-14f7-4a42-aabb-acd9988538a9",
   "metadata": {},
   "source": [
    "## Train Model for NER Task"
   ]
  },
  {
   "cell_type": "code",
   "execution_count": 76,
   "id": "362a0baa-dee4-499f-a540-987b90b5c02f",
   "metadata": {},
   "outputs": [
    {
     "name": "stderr",
     "output_type": "stream",
     "text": [
      "Some weights of the model checkpoint at roberta-base were not used when initializing RobertaForTokenClassification: ['lm_head.decoder.weight', 'lm_head.dense.weight', 'lm_head.bias', 'lm_head.layer_norm.weight', 'lm_head.dense.bias', 'lm_head.layer_norm.bias']\n",
      "- This IS expected if you are initializing RobertaForTokenClassification from the checkpoint of a model trained on another task or with another architecture (e.g. initializing a BertForSequenceClassification model from a BertForPreTraining model).\n",
      "- This IS NOT expected if you are initializing RobertaForTokenClassification from the checkpoint of a model that you expect to be exactly identical (initializing a BertForSequenceClassification model from a BertForSequenceClassification model).\n",
      "Some weights of RobertaForTokenClassification were not initialized from the model checkpoint at roberta-base and are newly initialized: ['classifier.bias', 'classifier.weight']\n",
      "You should probably TRAIN this model on a down-stream task to be able to use it for predictions and inference.\n"
     ]
    }
   ],
   "source": [
    "logging.basicConfig(level=logging.INFO)\n",
    "transformers_logger = logging.getLogger(\"transformers\")\n",
    "transformers_logger.setLevel(logging.WARNING)\n",
    "\n",
    "\n",
    "# Configure the model\n",
    "model_args = NERArgs()\n",
    "model_args.labels_list = [\"O\", \"I-TARGET\", \"I-SOURCE\", \"I-EXPRESSION\",\"B-TARGET\", \"B-SOURCE\", \"B-EXPRESSION\"]\n",
    "model_args.train_batch_size = 32\n",
    "model_args.evaluate_during_training = True\n",
    "model_args.overwrite_output_dir = True\n",
    "model_args.num_train_epochs = 10\n",
    "model_args.max_seq_length = 256\n",
    "model_args.wandb_project = 'NER-model'\n",
    "model_args.logging_steps = 10\n",
    "model = NERModel(\n",
    "    \"roberta\", \"roberta-base\", args=model_args\n",
    ")"
   ]
  },
  {
   "cell_type": "code",
   "execution_count": 77,
   "id": "00b5a4ad-9920-4bb9-b5da-a97e28c3ddd4",
   "metadata": {
    "scrolled": true,
    "tags": []
   },
   "outputs": [
    {
     "name": "stderr",
     "output_type": "stream",
     "text": [
      "INFO:simpletransformers.ner.ner_model: Converting to features started.\n"
     ]
    },
    {
     "data": {
      "application/vnd.jupyter.widget-view+json": {
       "model_id": "2767f0ede1f64244a3d021a7c4885d1e",
       "version_major": 2,
       "version_minor": 0
      },
      "text/plain": [
       "  0%|          | 0/5 [00:00<?, ?it/s]"
      ]
     },
     "metadata": {},
     "output_type": "display_data"
    },
    {
     "data": {
      "application/vnd.jupyter.widget-view+json": {
       "model_id": "97da32996d6c409f90c0777e59f7f330",
       "version_major": 2,
       "version_minor": 0
      },
      "text/plain": [
       "Epoch:   0%|          | 0/10 [00:00<?, ?it/s]"
      ]
     },
     "metadata": {},
     "output_type": "display_data"
    },
    {
     "data": {
      "text/html": [
       "Finishing last run (ID:1szwvapn) before initializing another..."
      ],
      "text/plain": [
       "<IPython.core.display.HTML object>"
      ]
     },
     "metadata": {},
     "output_type": "display_data"
    },
    {
     "data": {
      "text/html": [
       "<br/>Waiting for W&B process to finish, PID 19235... <strong style=\"color:green\">(success).</strong>"
      ],
      "text/plain": [
       "<IPython.core.display.HTML object>"
      ]
     },
     "metadata": {},
     "output_type": "display_data"
    },
    {
     "data": {
      "application/vnd.jupyter.widget-view+json": {
       "model_id": "",
       "version_major": 2,
       "version_minor": 0
      },
      "text/plain": [
       "VBox(children=(Label(value=' 0.03MB of 0.03MB uploaded (0.00MB deduped)\\r'), FloatProgress(value=1.0, max=1.0)…"
      ]
     },
     "metadata": {},
     "output_type": "display_data"
    },
    {
     "data": {
      "text/html": [
       "<style>\n",
       "    table.wandb td:nth-child(1) { padding: 0 10px; text-align: right }\n",
       "    .wandb-row { display: flex; flex-direction: row; flex-wrap: wrap; width: 100% }\n",
       "    .wandb-col { display: flex; flex-direction: column; flex-basis: 100%; flex: 1; padding: 10px; }\n",
       "    </style>\n",
       "<div class=\"wandb-row\"><div class=\"wandb-col\">\n",
       "</div><div class=\"wandb-col\">\n",
       "</div></div>\n",
       "Synced 6 W&B file(s), 3 media file(s), 3 artifact file(s) and 0 other file(s)\n",
       "<br/>Synced <strong style=\"color:#cdcd00\">northern-flower-7</strong>: <a href=\"https://wandb.ai/skytianzhu/visualization-demo/runs/1szwvapn\" target=\"_blank\">https://wandb.ai/skytianzhu/visualization-demo/runs/1szwvapn</a><br/>\n",
       "Find logs at: <code>./wandb/run-20211205_054238-1szwvapn/logs</code><br/>\n"
      ],
      "text/plain": [
       "<IPython.core.display.HTML object>"
      ]
     },
     "metadata": {},
     "output_type": "display_data"
    },
    {
     "data": {
      "text/html": [
       "Successfully finished last run (ID:1szwvapn). Initializing new run:<br/>"
      ],
      "text/plain": [
       "<IPython.core.display.HTML object>"
      ]
     },
     "metadata": {},
     "output_type": "display_data"
    },
    {
     "data": {
      "text/html": [
       "\n",
       "                    Syncing run <strong><a href=\"https://wandb.ai/skytianzhu/NER-model/runs/87ekwk3n\" target=\"_blank\">iconic-valley-7</a></strong> to <a href=\"https://wandb.ai/skytianzhu/NER-model\" target=\"_blank\">Weights & Biases</a> (<a href=\"https://docs.wandb.com/integrations/jupyter.html\" target=\"_blank\">docs</a>).<br/>\n",
       "\n",
       "                "
      ],
      "text/plain": [
       "<IPython.core.display.HTML object>"
      ]
     },
     "metadata": {},
     "output_type": "display_data"
    },
    {
     "data": {
      "application/vnd.jupyter.widget-view+json": {
       "model_id": "3d308693935d43ea97f961724a7440fd",
       "version_major": 2,
       "version_minor": 0
      },
      "text/plain": [
       "Running Epoch 0 of 10:   0%|          | 0/297 [00:00<?, ?it/s]"
      ]
     },
     "metadata": {},
     "output_type": "display_data"
    },
    {
     "name": "stderr",
     "output_type": "stream",
     "text": [
      "/opt/conda/lib/python3.7/site-packages/torch/optim/lr_scheduler.py:134: UserWarning: Detected call of `lr_scheduler.step()` before `optimizer.step()`. In PyTorch 1.1.0 and later, you should call them in the opposite order: `optimizer.step()` before `lr_scheduler.step()`.  Failure to do this will result in PyTorch skipping the first value of the learning rate schedule. See more details at https://pytorch.org/docs/stable/optim.html#how-to-adjust-learning-rate\n",
      "  \"https://pytorch.org/docs/stable/optim.html#how-to-adjust-learning-rate\", UserWarning)\n",
      "INFO:simpletransformers.ner.ner_model: Converting to features started.\n"
     ]
    },
    {
     "data": {
      "application/vnd.jupyter.widget-view+json": {
       "model_id": "6ca2f705c2ac4a3490e89db041c11d9e",
       "version_major": 2,
       "version_minor": 0
      },
      "text/plain": [
       "  0%|          | 0/5 [00:00<?, ?it/s]"
      ]
     },
     "metadata": {},
     "output_type": "display_data"
    },
    {
     "data": {
      "application/vnd.jupyter.widget-view+json": {
       "model_id": "a1d2e282bd494de29b76f92c830c824e",
       "version_major": 2,
       "version_minor": 0
      },
      "text/plain": [
       "Running Evaluation:   0%|          | 0/305 [00:00<?, ?it/s]"
      ]
     },
     "metadata": {},
     "output_type": "display_data"
    },
    {
     "data": {
      "application/vnd.jupyter.widget-view+json": {
       "model_id": "1051d8bcf3d74738a68f53f158c9c244",
       "version_major": 2,
       "version_minor": 0
      },
      "text/plain": [
       "Running Epoch 1 of 10:   0%|          | 0/297 [00:00<?, ?it/s]"
      ]
     },
     "metadata": {},
     "output_type": "display_data"
    },
    {
     "name": "stderr",
     "output_type": "stream",
     "text": [
      "INFO:simpletransformers.ner.ner_model: Converting to features started.\n"
     ]
    },
    {
     "data": {
      "application/vnd.jupyter.widget-view+json": {
       "model_id": "cd5eac017e334494ade95de58fc0c59c",
       "version_major": 2,
       "version_minor": 0
      },
      "text/plain": [
       "  0%|          | 0/5 [00:00<?, ?it/s]"
      ]
     },
     "metadata": {},
     "output_type": "display_data"
    },
    {
     "data": {
      "application/vnd.jupyter.widget-view+json": {
       "model_id": "e67e6238cf86410898244ea381ef5eb4",
       "version_major": 2,
       "version_minor": 0
      },
      "text/plain": [
       "Running Evaluation:   0%|          | 0/305 [00:00<?, ?it/s]"
      ]
     },
     "metadata": {},
     "output_type": "display_data"
    },
    {
     "data": {
      "application/vnd.jupyter.widget-view+json": {
       "model_id": "2e3c91e48a6f4dd1ba5098cb71083f13",
       "version_major": 2,
       "version_minor": 0
      },
      "text/plain": [
       "Running Epoch 2 of 10:   0%|          | 0/297 [00:00<?, ?it/s]"
      ]
     },
     "metadata": {},
     "output_type": "display_data"
    },
    {
     "name": "stderr",
     "output_type": "stream",
     "text": [
      "INFO:simpletransformers.ner.ner_model: Converting to features started.\n"
     ]
    },
    {
     "data": {
      "application/vnd.jupyter.widget-view+json": {
       "model_id": "14778975185f41b6a6ad411f8da48eac",
       "version_major": 2,
       "version_minor": 0
      },
      "text/plain": [
       "  0%|          | 0/5 [00:00<?, ?it/s]"
      ]
     },
     "metadata": {},
     "output_type": "display_data"
    },
    {
     "data": {
      "application/vnd.jupyter.widget-view+json": {
       "model_id": "79998325012b454999853604f03fffd7",
       "version_major": 2,
       "version_minor": 0
      },
      "text/plain": [
       "Running Evaluation:   0%|          | 0/305 [00:00<?, ?it/s]"
      ]
     },
     "metadata": {},
     "output_type": "display_data"
    },
    {
     "data": {
      "application/vnd.jupyter.widget-view+json": {
       "model_id": "966a945179b44c2eb9b24000721380e6",
       "version_major": 2,
       "version_minor": 0
      },
      "text/plain": [
       "Running Epoch 3 of 10:   0%|          | 0/297 [00:00<?, ?it/s]"
      ]
     },
     "metadata": {},
     "output_type": "display_data"
    },
    {
     "name": "stderr",
     "output_type": "stream",
     "text": [
      "INFO:simpletransformers.ner.ner_model: Converting to features started.\n"
     ]
    },
    {
     "data": {
      "application/vnd.jupyter.widget-view+json": {
       "model_id": "8b14b8f46d69432f87bcedc5ce42fff1",
       "version_major": 2,
       "version_minor": 0
      },
      "text/plain": [
       "  0%|          | 0/5 [00:00<?, ?it/s]"
      ]
     },
     "metadata": {},
     "output_type": "display_data"
    },
    {
     "data": {
      "application/vnd.jupyter.widget-view+json": {
       "model_id": "1577620994974bfdb168d8eadb5e25ce",
       "version_major": 2,
       "version_minor": 0
      },
      "text/plain": [
       "Running Evaluation:   0%|          | 0/305 [00:00<?, ?it/s]"
      ]
     },
     "metadata": {},
     "output_type": "display_data"
    },
    {
     "data": {
      "application/vnd.jupyter.widget-view+json": {
       "model_id": "fbaa4e79e25e4012b40ffeb8583371cc",
       "version_major": 2,
       "version_minor": 0
      },
      "text/plain": [
       "Running Epoch 4 of 10:   0%|          | 0/297 [00:00<?, ?it/s]"
      ]
     },
     "metadata": {},
     "output_type": "display_data"
    },
    {
     "name": "stderr",
     "output_type": "stream",
     "text": [
      "INFO:simpletransformers.ner.ner_model: Converting to features started.\n"
     ]
    },
    {
     "data": {
      "application/vnd.jupyter.widget-view+json": {
       "model_id": "09c293dc8cbb40db9de4ad374140b84a",
       "version_major": 2,
       "version_minor": 0
      },
      "text/plain": [
       "  0%|          | 0/5 [00:00<?, ?it/s]"
      ]
     },
     "metadata": {},
     "output_type": "display_data"
    },
    {
     "data": {
      "application/vnd.jupyter.widget-view+json": {
       "model_id": "eaddc8d0b49d472daf9efddfca8e1a9e",
       "version_major": 2,
       "version_minor": 0
      },
      "text/plain": [
       "Running Evaluation:   0%|          | 0/305 [00:00<?, ?it/s]"
      ]
     },
     "metadata": {},
     "output_type": "display_data"
    },
    {
     "data": {
      "application/vnd.jupyter.widget-view+json": {
       "model_id": "1701921d758942b197d25d4e9bc7b6f0",
       "version_major": 2,
       "version_minor": 0
      },
      "text/plain": [
       "Running Epoch 5 of 10:   0%|          | 0/297 [00:00<?, ?it/s]"
      ]
     },
     "metadata": {},
     "output_type": "display_data"
    },
    {
     "name": "stderr",
     "output_type": "stream",
     "text": [
      "INFO:simpletransformers.ner.ner_model: Converting to features started.\n"
     ]
    },
    {
     "data": {
      "application/vnd.jupyter.widget-view+json": {
       "model_id": "1cd1bd48c29845afaa6aa7feb19dc218",
       "version_major": 2,
       "version_minor": 0
      },
      "text/plain": [
       "  0%|          | 0/5 [00:00<?, ?it/s]"
      ]
     },
     "metadata": {},
     "output_type": "display_data"
    },
    {
     "data": {
      "application/vnd.jupyter.widget-view+json": {
       "model_id": "c8a5972de87144b3a195eff9631a85c1",
       "version_major": 2,
       "version_minor": 0
      },
      "text/plain": [
       "Running Evaluation:   0%|          | 0/305 [00:00<?, ?it/s]"
      ]
     },
     "metadata": {},
     "output_type": "display_data"
    },
    {
     "data": {
      "application/vnd.jupyter.widget-view+json": {
       "model_id": "1b35919c42944dc6965742cc60989a59",
       "version_major": 2,
       "version_minor": 0
      },
      "text/plain": [
       "Running Epoch 6 of 10:   0%|          | 0/297 [00:00<?, ?it/s]"
      ]
     },
     "metadata": {},
     "output_type": "display_data"
    },
    {
     "name": "stderr",
     "output_type": "stream",
     "text": [
      "INFO:simpletransformers.ner.ner_model: Converting to features started.\n"
     ]
    },
    {
     "data": {
      "application/vnd.jupyter.widget-view+json": {
       "model_id": "ebd2b5f2f810415490167720cbd5e3d6",
       "version_major": 2,
       "version_minor": 0
      },
      "text/plain": [
       "  0%|          | 0/5 [00:00<?, ?it/s]"
      ]
     },
     "metadata": {},
     "output_type": "display_data"
    },
    {
     "data": {
      "application/vnd.jupyter.widget-view+json": {
       "model_id": "a7d52dc4958542839a3285ebf51b8239",
       "version_major": 2,
       "version_minor": 0
      },
      "text/plain": [
       "Running Evaluation:   0%|          | 0/305 [00:00<?, ?it/s]"
      ]
     },
     "metadata": {},
     "output_type": "display_data"
    },
    {
     "name": "stderr",
     "output_type": "stream",
     "text": [
      "INFO:simpletransformers.ner.ner_model: Converting to features started.\n"
     ]
    },
    {
     "data": {
      "application/vnd.jupyter.widget-view+json": {
       "model_id": "28ec3b2647f145b2bf22be44e4914304",
       "version_major": 2,
       "version_minor": 0
      },
      "text/plain": [
       "  0%|          | 0/5 [00:00<?, ?it/s]"
      ]
     },
     "metadata": {},
     "output_type": "display_data"
    },
    {
     "data": {
      "application/vnd.jupyter.widget-view+json": {
       "model_id": "aed426cf92ac49d18ba14720b9c12b7c",
       "version_major": 2,
       "version_minor": 0
      },
      "text/plain": [
       "Running Evaluation:   0%|          | 0/305 [00:00<?, ?it/s]"
      ]
     },
     "metadata": {},
     "output_type": "display_data"
    },
    {
     "data": {
      "application/vnd.jupyter.widget-view+json": {
       "model_id": "42d8a91afa634990b06374e55c55227a",
       "version_major": 2,
       "version_minor": 0
      },
      "text/plain": [
       "Running Epoch 7 of 10:   0%|          | 0/297 [00:00<?, ?it/s]"
      ]
     },
     "metadata": {},
     "output_type": "display_data"
    },
    {
     "name": "stderr",
     "output_type": "stream",
     "text": [
      "INFO:simpletransformers.ner.ner_model: Converting to features started.\n"
     ]
    },
    {
     "data": {
      "application/vnd.jupyter.widget-view+json": {
       "model_id": "c4fc5f1105894e68aff4107e2ad15e81",
       "version_major": 2,
       "version_minor": 0
      },
      "text/plain": [
       "  0%|          | 0/5 [00:00<?, ?it/s]"
      ]
     },
     "metadata": {},
     "output_type": "display_data"
    },
    {
     "data": {
      "application/vnd.jupyter.widget-view+json": {
       "model_id": "ef3788b2f2ef429dabc4745c8b148646",
       "version_major": 2,
       "version_minor": 0
      },
      "text/plain": [
       "Running Evaluation:   0%|          | 0/305 [00:00<?, ?it/s]"
      ]
     },
     "metadata": {},
     "output_type": "display_data"
    },
    {
     "data": {
      "application/vnd.jupyter.widget-view+json": {
       "model_id": "e2463e36715e46c982d9447703757a7b",
       "version_major": 2,
       "version_minor": 0
      },
      "text/plain": [
       "Running Epoch 8 of 10:   0%|          | 0/297 [00:00<?, ?it/s]"
      ]
     },
     "metadata": {},
     "output_type": "display_data"
    },
    {
     "name": "stderr",
     "output_type": "stream",
     "text": [
      "INFO:simpletransformers.ner.ner_model: Converting to features started.\n"
     ]
    },
    {
     "data": {
      "application/vnd.jupyter.widget-view+json": {
       "model_id": "1de854f7e7e44450b5b806998dbe948e",
       "version_major": 2,
       "version_minor": 0
      },
      "text/plain": [
       "  0%|          | 0/5 [00:00<?, ?it/s]"
      ]
     },
     "metadata": {},
     "output_type": "display_data"
    },
    {
     "data": {
      "application/vnd.jupyter.widget-view+json": {
       "model_id": "7264c7c9e6014454893f29e6aee628ed",
       "version_major": 2,
       "version_minor": 0
      },
      "text/plain": [
       "Running Evaluation:   0%|          | 0/305 [00:00<?, ?it/s]"
      ]
     },
     "metadata": {},
     "output_type": "display_data"
    },
    {
     "data": {
      "application/vnd.jupyter.widget-view+json": {
       "model_id": "2e3be616391c409d96c925504b7b5d09",
       "version_major": 2,
       "version_minor": 0
      },
      "text/plain": [
       "Running Epoch 9 of 10:   0%|          | 0/297 [00:00<?, ?it/s]"
      ]
     },
     "metadata": {},
     "output_type": "display_data"
    },
    {
     "name": "stderr",
     "output_type": "stream",
     "text": [
      "INFO:simpletransformers.ner.ner_model: Converting to features started.\n"
     ]
    },
    {
     "data": {
      "application/vnd.jupyter.widget-view+json": {
       "model_id": "de79072144f5407aab94a2254cce87bb",
       "version_major": 2,
       "version_minor": 0
      },
      "text/plain": [
       "  0%|          | 0/5 [00:00<?, ?it/s]"
      ]
     },
     "metadata": {},
     "output_type": "display_data"
    },
    {
     "data": {
      "application/vnd.jupyter.widget-view+json": {
       "model_id": "1b614b8d1c924b8e9f21f0f6a7dfa561",
       "version_major": 2,
       "version_minor": 0
      },
      "text/plain": [
       "Running Evaluation:   0%|          | 0/305 [00:00<?, ?it/s]"
      ]
     },
     "metadata": {},
     "output_type": "display_data"
    },
    {
     "name": "stderr",
     "output_type": "stream",
     "text": [
      "INFO:simpletransformers.ner.ner_model: Training of roberta model complete. Saved to outputs/.\n"
     ]
    },
    {
     "data": {
      "text/plain": [
       "(2970,\n",
       " defaultdict(list,\n",
       "             {'global_step': [297,\n",
       "               594,\n",
       "               891,\n",
       "               1188,\n",
       "               1485,\n",
       "               1782,\n",
       "               2000,\n",
       "               2079,\n",
       "               2376,\n",
       "               2673,\n",
       "               2970],\n",
       "              'train_loss': [0.20080578327178955,\n",
       "               0.5730990171432495,\n",
       "               0.22009192407131195,\n",
       "               0.12208372354507446,\n",
       "               0.07039044797420502,\n",
       "               0.1164388507604599,\n",
       "               0.03451358154416084,\n",
       "               0.019080353900790215,\n",
       "               0.02395833283662796,\n",
       "               0.022110242396593094,\n",
       "               0.00582613842561841],\n",
       "              'eval_loss': [0.28000834482859394,\n",
       "               0.26133145689544435,\n",
       "               0.2415812126128003,\n",
       "               0.26724727843953944,\n",
       "               0.3212938595429105,\n",
       "               0.3317930789970455,\n",
       "               0.37567395498455103,\n",
       "               0.3760283562833525,\n",
       "               0.37518616064542765,\n",
       "               0.40852217043451317,\n",
       "               0.4090052536307652],\n",
       "              'precision': [0.394856278366112,\n",
       "               0.44101731601731603,\n",
       "               0.4844544940644432,\n",
       "               0.4669789227166276,\n",
       "               0.5373395565927654,\n",
       "               0.44331572531491265,\n",
       "               0.4664522058823529,\n",
       "               0.45288624787775894,\n",
       "               0.49757751937984496,\n",
       "               0.47853592408495255,\n",
       "               0.48789571694599626],\n",
       "              'recall': [0.2577777777777778,\n",
       "               0.4024691358024691,\n",
       "               0.42320987654320985,\n",
       "               0.49234567901234566,\n",
       "               0.45481481481481484,\n",
       "               0.5387654320987655,\n",
       "               0.5012345679012346,\n",
       "               0.5269135802469136,\n",
       "               0.5071604938271604,\n",
       "               0.522962962962963,\n",
       "               0.5175308641975309],\n",
       "              'f1_score': [0.3119211233940843,\n",
       "               0.420862380583527,\n",
       "               0.4517659462308909,\n",
       "               0.4793269230769231,\n",
       "               0.4926450922706606,\n",
       "               0.48640213999108345,\n",
       "               0.48321828136158057,\n",
       "               0.4871034010499886,\n",
       "               0.5023233064318905,\n",
       "               0.4997640396413402,\n",
       "               0.5022765396597172]}))"
      ]
     },
     "execution_count": 77,
     "metadata": {},
     "output_type": "execute_result"
    }
   ],
   "source": [
    "model.train_model(train_data, eval_data=eval_data)"
   ]
  },
  {
   "cell_type": "markdown",
   "id": "47763204-9804-49c2-9b7a-6cc2a51ebf9e",
   "metadata": {},
   "source": [
    "## Evaluation of NER Task"
   ]
  },
  {
   "cell_type": "code",
   "execution_count": 32,
   "id": "c330a699-a327-4b12-ad56-9ae0a482f9ea",
   "metadata": {},
   "outputs": [
    {
     "name": "stderr",
     "output_type": "stream",
     "text": [
      "INFO:simpletransformers.ner.ner_model: Converting to features started.\n"
     ]
    },
    {
     "data": {
      "application/vnd.jupyter.widget-view+json": {
       "model_id": "260038f96cd04948b35d92760c7459a0",
       "version_major": 2,
       "version_minor": 0
      },
      "text/plain": [
       "  0%|          | 0/5 [00:00<?, ?it/s]"
      ]
     },
     "metadata": {},
     "output_type": "display_data"
    },
    {
     "data": {
      "application/vnd.jupyter.widget-view+json": {
       "model_id": "6c20998d04e549a5a55b9281bdf7ad17",
       "version_major": 2,
       "version_minor": 0
      },
      "text/plain": [
       "Running Evaluation:   0%|          | 0/307 [00:00<?, ?it/s]"
      ]
     },
     "metadata": {},
     "output_type": "display_data"
    },
    {
     "name": "stderr",
     "output_type": "stream",
     "text": [
      "INFO:simpletransformers.ner.ner_model:{'eval_loss': 0.3696765049820725, 'precision': 0.4823266219239374, 'recall': 0.5205214872042492, 'f1_score': 0.5006967022758941}\n"
     ]
    },
    {
     "data": {
      "text/plain": [
       "{'eval_loss': 0.3696765049820725,\n",
       " 'precision': 0.4823266219239374,\n",
       " 'recall': 0.5205214872042492,\n",
       " 'f1_score': 0.5006967022758941}"
      ]
     },
     "execution_count": 32,
     "metadata": {},
     "output_type": "execute_result"
    }
   ],
   "source": [
    "# Evaluate the model\n",
    "result, model_outputs, preds_list = model.eval_model(eval_data)\n",
    "\n",
    "# Make predictions with the model\n",
    "# predictions, raw_outputs = model.predict(eval_data)\n",
    "result"
   ]
  },
  {
   "cell_type": "code",
   "execution_count": 82,
   "id": "63d59ca6-b765-46df-abda-c94aa57ea8dd",
   "metadata": {},
   "outputs": [],
   "source": [
    "def custom_eval(model, eval_data):\n",
    "    new_data = eval_data.groupby(['sentence_id'], sort=False).agg(lambda x: \" \".join(list(x))).reset_index()\n",
    "    result = model.predict(new_data['words'])\n",
    "    preds_list = [[list(word.values())[0] for word in pred] for pred in result[0]]\n",
    "    return preds_list"
   ]
  },
  {
   "cell_type": "code",
   "execution_count": 250,
   "id": "0ba2110d-fd3f-41ce-a963-158e4d958342",
   "metadata": {},
   "outputs": [
    {
     "name": "stderr",
     "output_type": "stream",
     "text": [
      "INFO:simpletransformers.ner.ner_model: Converting to features started.\n"
     ]
    },
    {
     "data": {
      "application/vnd.jupyter.widget-view+json": {
       "model_id": "0a5c2c8968a647d2880b38bb1a99d500",
       "version_major": 2,
       "version_minor": 0
      },
      "text/plain": [
       "  0%|          | 0/5 [00:00<?, ?it/s]"
      ]
     },
     "metadata": {},
     "output_type": "display_data"
    },
    {
     "data": {
      "application/vnd.jupyter.widget-view+json": {
       "model_id": "f45e676bdb9c4ea8b2211a862deac920",
       "version_major": 2,
       "version_minor": 0
      },
      "text/plain": [
       "Running Prediction:   0%|          | 0/305 [00:00<?, ?it/s]"
      ]
     },
     "metadata": {},
     "output_type": "display_data"
    }
   ],
   "source": [
    "preds_list = custom_eval(model, eval_data)"
   ]
  },
  {
   "cell_type": "code",
   "execution_count": 305,
   "id": "6bd1f30b-ded0-45ae-959a-4e06bab3af36",
   "metadata": {},
   "outputs": [
    {
     "data": {
      "text/plain": [
       "53904"
      ]
     },
     "execution_count": 305,
     "metadata": {},
     "output_type": "execute_result"
    }
   ],
   "source": [
    "len(eval_data)"
   ]
  },
  {
   "cell_type": "code",
   "execution_count": 84,
   "id": "5cb5a48e-f7aa-4eac-a85b-35c075ab0e52",
   "metadata": {},
   "outputs": [],
   "source": [
    "expression_label = 'EXPRESSION'\n",
    "target_label = 'TARGET'\n",
    "source_label = 'SOURCE'\n",
    "def get_tag_report(df, preds_list):\n",
    "    output_view = df.copy()\n",
    "    output_view['prediction'] = [item for sublist in preds_list for item in sublist]\n",
    "    output_view['target_label'] = output_view.apply(lambda row: target_label in row['labels'], axis=1)\n",
    "    output_view['target_pred'] = output_view.apply(lambda row: target_label in row['prediction'], axis=1)\n",
    "    output_view['source_label'] = output_view.apply(lambda row: source_label in row['labels'], axis=1)\n",
    "    output_view['source_pred'] = output_view.apply(lambda row: source_label in row['prediction'], axis=1)\n",
    "    output_view['expression_label'] = output_view.apply(lambda row: expression_label in row['labels'], axis=1)\n",
    "    output_view['expression_pred'] = output_view.apply(lambda row: expression_label in row['prediction'], axis=1)\n",
    "    \n",
    "    target_report = metrics.classification_report(output_view['target_label'], output_view['target_pred'])\n",
    "    source_report = metrics.classification_report(output_view['source_label'], output_view['source_pred'])\n",
    "    expression_report = metrics.classification_report(output_view['expression_label'], output_view['expression_pred'])\n",
    "    print(\"Target Report\")\n",
    "    print(target_report)\n",
    "    print(\"Source Report\")\n",
    "    print(source_report)\n",
    "    print(\"Expression Report\")\n",
    "    print(expression_report)\n",
    "    "
   ]
  },
  {
   "cell_type": "code",
   "execution_count": 252,
   "id": "3a5fd17b-a6f3-4dc3-a82d-21547b3c7e96",
   "metadata": {},
   "outputs": [
    {
     "name": "stdout",
     "output_type": "stream",
     "text": [
      "Target Report\n",
      "              precision    recall  f1-score   support\n",
      "\n",
      "       False       0.98      0.98      0.98     51003\n",
      "        True       0.66      0.58      0.62      2901\n",
      "\n",
      "    accuracy                           0.96     53904\n",
      "   macro avg       0.82      0.78      0.80     53904\n",
      "weighted avg       0.96      0.96      0.96     53904\n",
      "\n",
      "Source Report\n",
      "              precision    recall  f1-score   support\n",
      "\n",
      "       False       0.99      0.99      0.99     53050\n",
      "        True       0.62      0.61      0.62       854\n",
      "\n",
      "    accuracy                           0.99     53904\n",
      "   macro avg       0.81      0.80      0.81     53904\n",
      "weighted avg       0.99      0.99      0.99     53904\n",
      "\n",
      "Expression Report\n",
      "              precision    recall  f1-score   support\n",
      "\n",
      "       False       0.99      0.99      0.99     52103\n",
      "        True       0.65      0.61      0.63      1801\n",
      "\n",
      "    accuracy                           0.98     53904\n",
      "   macro avg       0.82      0.80      0.81     53904\n",
      "weighted avg       0.98      0.98      0.98     53904\n",
      "\n"
     ]
    }
   ],
   "source": [
    "get_tag_report(eval_data, preds_list)"
   ]
  },
  {
   "cell_type": "code",
   "execution_count": 79,
   "id": "ce2345e4-5f7e-4941-afee-83cc836084db",
   "metadata": {},
   "outputs": [],
   "source": [
    "eval_data_dict = {'du': preprocess_data_NER(test_json_du), 'mpqa':preprocess_data_NER(test_json_mpqa), 'opener_en':preprocess_data_NER(test_json_open)}"
   ]
  },
  {
   "cell_type": "code",
   "execution_count": 85,
   "id": "ccf0b38a-4ead-4e36-8683-7fe097bdd90d",
   "metadata": {},
   "outputs": [],
   "source": [
    "def get_tag_reports(model, eval_data_dict):\n",
    "    for name, eval_data in eval_data_dict.items():\n",
    "        eval_data = eval_data[eval_data['words']!='']\n",
    "        preds_list = custom_eval(model, eval_data)\n",
    "        print(name)\n",
    "        get_tag_report(eval_data, preds_list)\n",
    "    "
   ]
  },
  {
   "cell_type": "code",
   "execution_count": 86,
   "id": "06645248-a4b9-494f-9760-54e23d9897aa",
   "metadata": {},
   "outputs": [
    {
     "name": "stderr",
     "output_type": "stream",
     "text": [
      "INFO:simpletransformers.ner.ner_model: Converting to features started.\n"
     ]
    },
    {
     "data": {
      "application/vnd.jupyter.widget-view+json": {
       "model_id": "29454663c8d04d6bb6c82b74cacaa3df",
       "version_major": 2,
       "version_minor": 0
      },
      "text/plain": [
       "  0%|          | 0/1 [00:00<?, ?it/s]"
      ]
     },
     "metadata": {},
     "output_type": "display_data"
    },
    {
     "data": {
      "application/vnd.jupyter.widget-view+json": {
       "model_id": "6659974724ce4a1daa457b7a9f3bae1f",
       "version_major": 2,
       "version_minor": 0
      },
      "text/plain": [
       "Running Prediction:   0%|          | 0/29 [00:00<?, ?it/s]"
      ]
     },
     "metadata": {},
     "output_type": "display_data"
    },
    {
     "name": "stdout",
     "output_type": "stream",
     "text": [
      "du\n",
      "Target Report\n",
      "              precision    recall  f1-score   support\n",
      "\n",
      "       False       0.99      0.99      0.99      3931\n",
      "        True       0.57      0.54      0.55       111\n",
      "\n",
      "    accuracy                           0.98      4042\n",
      "   macro avg       0.78      0.76      0.77      4042\n",
      "weighted avg       0.98      0.98      0.98      4042\n",
      "\n",
      "Source Report\n",
      "              precision    recall  f1-score   support\n",
      "\n",
      "       False       1.00      1.00      1.00      4034\n",
      "        True       0.00      0.00      0.00         8\n",
      "\n",
      "    accuracy                           1.00      4042\n",
      "   macro avg       0.50      0.50      0.50      4042\n",
      "weighted avg       1.00      1.00      1.00      4042\n",
      "\n",
      "Expression Report\n",
      "              precision    recall  f1-score   support\n",
      "\n",
      "       False       0.98      0.98      0.98      3883\n",
      "        True       0.51      0.53      0.52       159\n",
      "\n",
      "    accuracy                           0.96      4042\n",
      "   macro avg       0.75      0.75      0.75      4042\n",
      "weighted avg       0.96      0.96      0.96      4042\n",
      "\n"
     ]
    },
    {
     "name": "stderr",
     "output_type": "stream",
     "text": [
      "INFO:simpletransformers.ner.ner_model: Converting to features started.\n"
     ]
    },
    {
     "data": {
      "application/vnd.jupyter.widget-view+json": {
       "model_id": "47f42c4d37df4ca1a8643969386245bb",
       "version_major": 2,
       "version_minor": 0
      },
      "text/plain": [
       "  0%|          | 0/4 [00:00<?, ?it/s]"
      ]
     },
     "metadata": {},
     "output_type": "display_data"
    },
    {
     "data": {
      "application/vnd.jupyter.widget-view+json": {
       "model_id": "cbceeda659144737a8283ce5f5f37b20",
       "version_major": 2,
       "version_minor": 0
      },
      "text/plain": [
       "Running Prediction:   0%|          | 0/249 [00:00<?, ?it/s]"
      ]
     },
     "metadata": {},
     "output_type": "display_data"
    },
    {
     "name": "stdout",
     "output_type": "stream",
     "text": [
      "mpqa\n"
     ]
    },
    {
     "name": "stderr",
     "output_type": "stream",
     "text": [
      "INFO:simpletransformers.ner.ner_model: Converting to features started.\n"
     ]
    },
    {
     "name": "stdout",
     "output_type": "stream",
     "text": [
      "Target Report\n",
      "              precision    recall  f1-score   support\n",
      "\n",
      "       False       0.98      0.99      0.98     44521\n",
      "        True       0.66      0.55      0.60      2324\n",
      "\n",
      "    accuracy                           0.96     46845\n",
      "   macro avg       0.82      0.77      0.79     46845\n",
      "weighted avg       0.96      0.96      0.96     46845\n",
      "\n",
      "Source Report\n",
      "              precision    recall  f1-score   support\n",
      "\n",
      "       False       0.99      0.99      0.99     46032\n",
      "        True       0.64      0.62      0.63       813\n",
      "\n",
      "    accuracy                           0.99     46845\n",
      "   macro avg       0.82      0.81      0.81     46845\n",
      "weighted avg       0.99      0.99      0.99     46845\n",
      "\n",
      "Expression Report\n",
      "              precision    recall  f1-score   support\n",
      "\n",
      "       False       0.99      0.99      0.99     45925\n",
      "        True       0.57      0.52      0.54       920\n",
      "\n",
      "    accuracy                           0.98     46845\n",
      "   macro avg       0.78      0.75      0.77     46845\n",
      "weighted avg       0.98      0.98      0.98     46845\n",
      "\n"
     ]
    },
    {
     "data": {
      "application/vnd.jupyter.widget-view+json": {
       "model_id": "059eb1e2c8fd47a5a74a9e344be01579",
       "version_major": 2,
       "version_minor": 0
      },
      "text/plain": [
       "  0%|          | 0/1 [00:00<?, ?it/s]"
      ]
     },
     "metadata": {},
     "output_type": "display_data"
    },
    {
     "data": {
      "application/vnd.jupyter.widget-view+json": {
       "model_id": "848ea248b9ed45ba90cc8e032c7466a7",
       "version_major": 2,
       "version_minor": 0
      },
      "text/plain": [
       "Running Prediction:   0%|          | 0/28 [00:00<?, ?it/s]"
      ]
     },
     "metadata": {},
     "output_type": "display_data"
    },
    {
     "name": "stdout",
     "output_type": "stream",
     "text": [
      "opener_en\n",
      "Target Report\n",
      "              precision    recall  f1-score   support\n",
      "\n",
      "       False       0.95      0.96      0.96      2551\n",
      "        True       0.77      0.74      0.75       466\n",
      "\n",
      "    accuracy                           0.92      3017\n",
      "   macro avg       0.86      0.85      0.85      3017\n",
      "weighted avg       0.92      0.92      0.92      3017\n",
      "\n",
      "Source Report\n",
      "              precision    recall  f1-score   support\n",
      "\n",
      "       False       1.00      0.99      1.00      2984\n",
      "        True       0.60      0.73      0.66        33\n",
      "\n",
      "    accuracy                           0.99      3017\n",
      "   macro avg       0.80      0.86      0.83      3017\n",
      "weighted avg       0.99      0.99      0.99      3017\n",
      "\n",
      "Expression Report\n",
      "              precision    recall  f1-score   support\n",
      "\n",
      "       False       0.93      0.93      0.93      2295\n",
      "        True       0.78      0.78      0.78       722\n",
      "\n",
      "    accuracy                           0.89      3017\n",
      "   macro avg       0.85      0.85      0.85      3017\n",
      "weighted avg       0.89      0.89      0.89      3017\n",
      "\n"
     ]
    }
   ],
   "source": [
    "get_tag_reports(model, eval_data_dict)"
   ]
  },
  {
   "cell_type": "markdown",
   "id": "ccc6de09-ba8c-4a17-8be0-8f371b47f361",
   "metadata": {},
   "source": [
    "## Data Transformation for Relationship Prediction"
   ]
  },
  {
   "cell_type": "code",
   "execution_count": 46,
   "id": "ebc241e5-b6b9-47cd-926b-3a99edb2541c",
   "metadata": {},
   "outputs": [],
   "source": [
    "def process_relationship(sent_id, text, opinions):\n",
    "    if len(opinions) == 0:\n",
    "        return []\n",
    "    correlation_dict = {}\n",
    "    global_expression_list = [expression for opinion in opinions for expression in opinion.get('Polar_expression', [[]])[0]]\n",
    "    for opinion in opinions:\n",
    "        expression_list = opinion.get('Polar_expression', [])\n",
    "        if len(expression_list) != 0 and len(expression_list[0]) != 0:\n",
    "            target_list = opinion.get('Target')[0]\n",
    "            source_list = opinion.get('Source')[0]\n",
    "            for expression in expression_list[0]:\n",
    "                for target in target_list:\n",
    "                    correlation_dict[(target, expression)] = 1\n",
    "                for source in source_list:\n",
    "                    correlation_dict[(source, expression)] = 1\n",
    "            for expression in global_expression_list:\n",
    "                if expression not in expression_list:\n",
    "                    for target in target_list:\n",
    "                        correlation_dict[(target, expression)] = 0 if correlation_dict.get((target, expression)) != 1 else 1\n",
    "                    for source in source_list:\n",
    "                        correlation_dict[(source, expression)] = 0 if correlation_dict.get((source, expression)) != 1 else 1\n",
    "            \n",
    "                    \n",
    "    relationship_table = [[sent_id, text, ind[0], ind[1], val] for ind, val in correlation_dict.items()]\n",
    "    return relationship_table\n",
    "        \n",
    "    "
   ]
  },
  {
   "cell_type": "code",
   "execution_count": 47,
   "id": "fc283dc1-f9b6-4266-895c-cf2fe1a25278",
   "metadata": {},
   "outputs": [],
   "source": [
    "relationship_table_columns = ['sent_id', 'text', 'reference', 'expression', 'labels']\n",
    "def transform_to_relationship_df(json_data):\n",
    "    relationship_table = []\n",
    "    for row in json_data:\n",
    "        row_relation = process_relationship(sent_id=row.get('sent_id', 'UNKNOWN_ID'), text=row.get('text', ''), opinions=row.get('opinions', []))\n",
    "        relationship_table.extend(row_relation)\n",
    "    return pd.DataFrame(data=relationship_table, columns=relationship_table_columns)\n",
    "        "
   ]
  },
  {
   "cell_type": "code",
   "execution_count": 48,
   "id": "ffde6250-7886-4806-a109-95c1644c927e",
   "metadata": {},
   "outputs": [],
   "source": [
    "rel_df_train_du = transform_to_relationship_df(json_data=train_json_du)\n",
    "rel_df_test_du = transform_to_relationship_df(json_data=test_json_du)\n",
    "rel_df_train_mpqa = transform_to_relationship_df(json_data=train_json_mpqa)\n",
    "rel_df_test_mpqa = transform_to_relationship_df(json_data=test_json_mpqa)\n",
    "rel_df_train_open = transform_to_relationship_df(json_data=train_json_open)\n",
    "rel_df_test_open = transform_to_relationship_df(json_data=test_json_open)"
   ]
  },
  {
   "cell_type": "code",
   "execution_count": 49,
   "id": "7b90102b-a3e5-440f-b012-ec9177bbd10e",
   "metadata": {},
   "outputs": [],
   "source": [
    "train_data_rel = rel_df_train_du.copy()\n",
    "train_data_rel = train_data_rel.append(rel_df_train_mpqa, ignore_index=True)\n",
    "train_data_rel = train_data_rel.append(rel_df_train_open, ignore_index=True)\n",
    "train_data_rel['text'] = train_data_rel.apply(lambda row: row['text'] + \" Reference: \" + row['reference'] + \"Expression: \" + row['expression'], axis=1)\n",
    "\n",
    "test_data_rel = rel_df_test_du.copy()\n",
    "test_data_rel = test_data_rel.append(rel_df_test_mpqa, ignore_index=True)\n",
    "test_data_rel = test_data_rel.append(rel_df_test_open, ignore_index=True)\n",
    "test_data_rel['text'] = test_data_rel.apply(lambda row: row['text'] + \" Reference: \" + row['reference'] + \"Expression: \" + row['expression'], axis=1)"
   ]
  },
  {
   "cell_type": "code",
   "execution_count": null,
   "id": "43b4c051-433f-40b4-a250-e9dacbd028d8",
   "metadata": {},
   "outputs": [],
   "source": []
  },
  {
   "cell_type": "markdown",
   "id": "c03626d3-83ae-4cd4-a3b0-443839e67b53",
   "metadata": {},
   "source": [
    "## Model Training for Relationship Prediction"
   ]
  },
  {
   "cell_type": "code",
   "execution_count": 50,
   "id": "7ce98f70-c879-443b-9ee2-212faee9d7d7",
   "metadata": {
    "tags": []
   },
   "outputs": [
    {
     "name": "stderr",
     "output_type": "stream",
     "text": [
      "Some weights of the model checkpoint at roberta-base were not used when initializing RobertaForSequenceClassification: ['lm_head.decoder.weight', 'lm_head.dense.weight', 'lm_head.bias', 'roberta.pooler.dense.bias', 'lm_head.layer_norm.weight', 'lm_head.dense.bias', 'lm_head.layer_norm.bias', 'roberta.pooler.dense.weight']\n",
      "- This IS expected if you are initializing RobertaForSequenceClassification from the checkpoint of a model trained on another task or with another architecture (e.g. initializing a BertForSequenceClassification model from a BertForPreTraining model).\n",
      "- This IS NOT expected if you are initializing RobertaForSequenceClassification from the checkpoint of a model that you expect to be exactly identical (initializing a BertForSequenceClassification model from a BertForSequenceClassification model).\n",
      "Some weights of RobertaForSequenceClassification were not initialized from the model checkpoint at roberta-base and are newly initialized: ['classifier.out_proj.weight', 'classifier.dense.bias', 'classifier.dense.weight', 'classifier.out_proj.bias']\n",
      "You should probably TRAIN this model on a down-stream task to be able to use it for predictions and inference.\n"
     ]
    }
   ],
   "source": [
    "# Preparing train data\n",
    "train_df = train_data_rel[['text', 'labels']]\n",
    "\n",
    "# Preparing eval data\n",
    "eval_df = test_data_rel[['text', 'labels']]\n",
    "\n",
    "# Optional model configuration\n",
    "model_args = ClassificationArgs()\n",
    "\n",
    "model_args.train_batch_size = 32\n",
    "model_args.overwrite_output_dir = True\n",
    "model_args.num_train_epochs = 10\n",
    "model_args.max_seq_length = 256\n",
    "model_args.wandb_project = 'visualization-demo'\n",
    "model_args.logging_steps = 10\n",
    "\n",
    "# Create a ClassificationModel\n",
    "model = ClassificationModel(\n",
    "    \"roberta\", \"roberta-base\", args=model_args\n",
    ")"
   ]
  },
  {
   "cell_type": "code",
   "execution_count": 51,
   "id": "35e9d636-c257-49a1-8944-5caabf3922b8",
   "metadata": {},
   "outputs": [
    {
     "data": {
      "application/vnd.jupyter.widget-view+json": {
       "model_id": "67b1ab09b4ce497d9c380a5dc8a4eb4e",
       "version_major": 2,
       "version_minor": 0
      },
      "text/plain": [
       "  0%|          | 0/10270 [00:00<?, ?it/s]"
      ]
     },
     "metadata": {},
     "output_type": "display_data"
    },
    {
     "data": {
      "application/vnd.jupyter.widget-view+json": {
       "model_id": "5936694feaa546388bad24bc04d409aa",
       "version_major": 2,
       "version_minor": 0
      },
      "text/plain": [
       "Epoch:   0%|          | 0/10 [00:00<?, ?it/s]"
      ]
     },
     "metadata": {},
     "output_type": "display_data"
    },
    {
     "name": "stderr",
     "output_type": "stream",
     "text": [
      "\u001b[34m\u001b[1mwandb\u001b[0m: Currently logged in as: \u001b[33mskytianzhu\u001b[0m (use `wandb login --relogin` to force relogin)\n"
     ]
    },
    {
     "data": {
      "text/html": [
       "\n",
       "                    Syncing run <strong><a href=\"https://wandb.ai/skytianzhu/visualization-demo/runs/2btjd43i\" target=\"_blank\">upbeat-rain-6</a></strong> to <a href=\"https://wandb.ai/skytianzhu/visualization-demo\" target=\"_blank\">Weights & Biases</a> (<a href=\"https://docs.wandb.com/integrations/jupyter.html\" target=\"_blank\">docs</a>).<br/>\n",
       "\n",
       "                "
      ],
      "text/plain": [
       "<IPython.core.display.HTML object>"
      ]
     },
     "metadata": {},
     "output_type": "display_data"
    },
    {
     "data": {
      "application/vnd.jupyter.widget-view+json": {
       "model_id": "99e91b010ecf4093b2f9fb236b0632e8",
       "version_major": 2,
       "version_minor": 0
      },
      "text/plain": [
       "Running Epoch 0 of 10:   0%|          | 0/321 [00:00<?, ?it/s]"
      ]
     },
     "metadata": {},
     "output_type": "display_data"
    },
    {
     "data": {
      "application/vnd.jupyter.widget-view+json": {
       "model_id": "2eeff09979fd40d5a3b9177cc3328d0c",
       "version_major": 2,
       "version_minor": 0
      },
      "text/plain": [
       "Running Epoch 1 of 10:   0%|          | 0/321 [00:00<?, ?it/s]"
      ]
     },
     "metadata": {},
     "output_type": "display_data"
    },
    {
     "data": {
      "application/vnd.jupyter.widget-view+json": {
       "model_id": "8820234df5414c6289aa3571a96ed4f2",
       "version_major": 2,
       "version_minor": 0
      },
      "text/plain": [
       "Running Epoch 2 of 10:   0%|          | 0/321 [00:00<?, ?it/s]"
      ]
     },
     "metadata": {},
     "output_type": "display_data"
    },
    {
     "data": {
      "application/vnd.jupyter.widget-view+json": {
       "model_id": "0426ed686ff3423f81f01e7a982e1d71",
       "version_major": 2,
       "version_minor": 0
      },
      "text/plain": [
       "Running Epoch 3 of 10:   0%|          | 0/321 [00:00<?, ?it/s]"
      ]
     },
     "metadata": {},
     "output_type": "display_data"
    },
    {
     "data": {
      "application/vnd.jupyter.widget-view+json": {
       "model_id": "185d1a74308b454aa1b5dea148383cf7",
       "version_major": 2,
       "version_minor": 0
      },
      "text/plain": [
       "Running Epoch 4 of 10:   0%|          | 0/321 [00:00<?, ?it/s]"
      ]
     },
     "metadata": {},
     "output_type": "display_data"
    },
    {
     "data": {
      "application/vnd.jupyter.widget-view+json": {
       "model_id": "fa93f632d3c44141b2117852ffcc3af6",
       "version_major": 2,
       "version_minor": 0
      },
      "text/plain": [
       "Running Epoch 5 of 10:   0%|          | 0/321 [00:00<?, ?it/s]"
      ]
     },
     "metadata": {},
     "output_type": "display_data"
    },
    {
     "data": {
      "application/vnd.jupyter.widget-view+json": {
       "model_id": "4bbcdb2e47c64339ad3753a85954051a",
       "version_major": 2,
       "version_minor": 0
      },
      "text/plain": [
       "Running Epoch 6 of 10:   0%|          | 0/321 [00:00<?, ?it/s]"
      ]
     },
     "metadata": {},
     "output_type": "display_data"
    },
    {
     "data": {
      "application/vnd.jupyter.widget-view+json": {
       "model_id": "f457d147e30a477c8e7f045ace556f4c",
       "version_major": 2,
       "version_minor": 0
      },
      "text/plain": [
       "Running Epoch 7 of 10:   0%|          | 0/321 [00:00<?, ?it/s]"
      ]
     },
     "metadata": {},
     "output_type": "display_data"
    },
    {
     "data": {
      "application/vnd.jupyter.widget-view+json": {
       "model_id": "7f8687d58f8448c887ccacdb45729507",
       "version_major": 2,
       "version_minor": 0
      },
      "text/plain": [
       "Running Epoch 8 of 10:   0%|          | 0/321 [00:00<?, ?it/s]"
      ]
     },
     "metadata": {},
     "output_type": "display_data"
    },
    {
     "data": {
      "application/vnd.jupyter.widget-view+json": {
       "model_id": "d7c88dafc1784ef680babf7619b71a35",
       "version_major": 2,
       "version_minor": 0
      },
      "text/plain": [
       "Running Epoch 9 of 10:   0%|          | 0/321 [00:00<?, ?it/s]"
      ]
     },
     "metadata": {},
     "output_type": "display_data"
    },
    {
     "data": {
      "text/plain": [
       "(3210, 0.12527044025632209)"
      ]
     },
     "execution_count": 51,
     "metadata": {},
     "output_type": "execute_result"
    }
   ],
   "source": [
    "# Train the model\n",
    "model.train_model(train_df)"
   ]
  },
  {
   "cell_type": "code",
   "execution_count": 52,
   "id": "ced5c9ce-2e01-41da-8470-ce8845c3f72b",
   "metadata": {},
   "outputs": [
    {
     "data": {
      "application/vnd.jupyter.widget-view+json": {
       "model_id": "04cb3975592b41779210814c7e44f33f",
       "version_major": 2,
       "version_minor": 0
      },
      "text/plain": [
       "  0%|          | 0/1982 [00:00<?, ?it/s]"
      ]
     },
     "metadata": {},
     "output_type": "display_data"
    },
    {
     "data": {
      "application/vnd.jupyter.widget-view+json": {
       "model_id": "f82ee5a2d36f4035893854aaf1a3a0b4",
       "version_major": 2,
       "version_minor": 0
      },
      "text/plain": [
       "Running Evaluation:   0%|          | 0/248 [00:00<?, ?it/s]"
      ]
     },
     "metadata": {},
     "output_type": "display_data"
    },
    {
     "data": {
      "text/html": [
       "Finishing last run (ID:2btjd43i) before initializing another..."
      ],
      "text/plain": [
       "<IPython.core.display.HTML object>"
      ]
     },
     "metadata": {},
     "output_type": "display_data"
    },
    {
     "data": {
      "text/html": [
       "<br/>Waiting for W&B process to finish, PID 13852... <strong style=\"color:green\">(success).</strong>"
      ],
      "text/plain": [
       "<IPython.core.display.HTML object>"
      ]
     },
     "metadata": {},
     "output_type": "display_data"
    },
    {
     "data": {
      "application/vnd.jupyter.widget-view+json": {
       "model_id": "",
       "version_major": 2,
       "version_minor": 0
      },
      "text/plain": [
       "VBox(children=(Label(value=' 0.00MB of 0.00MB uploaded (0.00MB deduped)\\r'), FloatProgress(value=1.0, max=1.0)…"
      ]
     },
     "metadata": {},
     "output_type": "display_data"
    },
    {
     "data": {
      "text/html": [
       "<style>\n",
       "    table.wandb td:nth-child(1) { padding: 0 10px; text-align: right }\n",
       "    .wandb-row { display: flex; flex-direction: row; flex-wrap: wrap; width: 100% }\n",
       "    .wandb-col { display: flex; flex-direction: column; flex-basis: 100%; flex: 1; padding: 10px; }\n",
       "    </style>\n",
       "<div class=\"wandb-row\"><div class=\"wandb-col\">\n",
       "<h3>Run history:</h3><br/><table class=\"wandb\"><tr><td>Training loss</td><td>██▆▄▆▄▃▄▁▂▁▃▁▂▁▁▁▁▅▃▁▁▁▃▁▁▁▁▁▁▁▁▁▁▁▁▄▁▁▁</td></tr><tr><td>global_step</td><td>▁▁▁▂▂▂▂▂▂▃▃▃▃▃▃▄▄▄▄▄▅▅▅▅▅▅▆▆▆▆▆▆▇▇▇▇▇███</td></tr><tr><td>lr</td><td>▂▅███▇▇▇▇▇▇▆▆▆▆▆▅▅▅▅▅▄▄▄▄▄▄▃▃▃▃▃▂▂▂▂▂▁▁▁</td></tr></table><br/></div><div class=\"wandb-col\">\n",
       "<h3>Run summary:</h3><br/><table class=\"wandb\"><tr><td>Training loss</td><td>0.00034</td></tr><tr><td>global_step</td><td>3210</td></tr><tr><td>lr</td><td>0.0</td></tr></table>\n",
       "</div></div>\n",
       "Synced 5 W&B file(s), 0 media file(s), 0 artifact file(s) and 0 other file(s)\n",
       "<br/>Synced <strong style=\"color:#cdcd00\">upbeat-rain-6</strong>: <a href=\"https://wandb.ai/skytianzhu/visualization-demo/runs/2btjd43i\" target=\"_blank\">https://wandb.ai/skytianzhu/visualization-demo/runs/2btjd43i</a><br/>\n",
       "Find logs at: <code>./wandb/run-20211205_051113-2btjd43i/logs</code><br/>\n"
      ],
      "text/plain": [
       "<IPython.core.display.HTML object>"
      ]
     },
     "metadata": {},
     "output_type": "display_data"
    },
    {
     "data": {
      "text/html": [
       "Successfully finished last run (ID:2btjd43i). Initializing new run:<br/>"
      ],
      "text/plain": [
       "<IPython.core.display.HTML object>"
      ]
     },
     "metadata": {},
     "output_type": "display_data"
    },
    {
     "data": {
      "text/html": [
       "\n",
       "                    Syncing run <strong><a href=\"https://wandb.ai/skytianzhu/visualization-demo/runs/1szwvapn\" target=\"_blank\">northern-flower-7</a></strong> to <a href=\"https://wandb.ai/skytianzhu/visualization-demo\" target=\"_blank\">Weights & Biases</a> (<a href=\"https://docs.wandb.com/integrations/jupyter.html\" target=\"_blank\">docs</a>).<br/>\n",
       "\n",
       "                "
      ],
      "text/plain": [
       "<IPython.core.display.HTML object>"
      ]
     },
     "metadata": {},
     "output_type": "display_data"
    }
   ],
   "source": [
    "# Evaluate the model\n",
    "result, model_outputs, wrong_predictions = model.eval_model(eval_df)"
   ]
  },
  {
   "cell_type": "code",
   "execution_count": 75,
   "id": "8fbc8ee4-817d-4046-bfc7-c247cfd24210",
   "metadata": {},
   "outputs": [
    {
     "name": "stdout",
     "output_type": "stream",
     "text": [
      "              precision    recall  f1-score   support\n",
      "\n",
      "           0       0.91      0.84      0.88       656\n",
      "           1       0.93      0.96      0.94      1326\n",
      "\n",
      "    accuracy                           0.92      1982\n",
      "   macro avg       0.92      0.90      0.91      1982\n",
      "weighted avg       0.92      0.92      0.92      1982\n",
      "\n"
     ]
    }
   ],
   "source": [
    "print(metrics.classification_report(eval_df['labels'], list(model_outputs[:,0] < model_outputs[:,1])))"
   ]
  },
  {
   "cell_type": "markdown",
   "id": "b15e322d-2fb8-447b-9c9a-f04bd5bcb42f",
   "metadata": {},
   "source": [
    "# Always predic true baseline"
   ]
  },
  {
   "cell_type": "code",
   "execution_count": 73,
   "id": "33ab448b-150b-4b0d-a64d-883b173e02bd",
   "metadata": {},
   "outputs": [
    {
     "name": "stderr",
     "output_type": "stream",
     "text": [
      "/opt/conda/lib/python3.7/site-packages/sklearn/metrics/_classification.py:1308: UndefinedMetricWarning: Recall and F-score are ill-defined and being set to 0.0 in labels with no true samples. Use `zero_division` parameter to control this behavior.\n",
      "  _warn_prf(average, modifier, msg_start, len(result))\n",
      "/opt/conda/lib/python3.7/site-packages/sklearn/metrics/_classification.py:1308: UndefinedMetricWarning: Recall and F-score are ill-defined and being set to 0.0 in labels with no true samples. Use `zero_division` parameter to control this behavior.\n",
      "  _warn_prf(average, modifier, msg_start, len(result))\n",
      "/opt/conda/lib/python3.7/site-packages/sklearn/metrics/_classification.py:1308: UndefinedMetricWarning: Recall and F-score are ill-defined and being set to 0.0 in labels with no true samples. Use `zero_division` parameter to control this behavior.\n",
      "  _warn_prf(average, modifier, msg_start, len(result))\n"
     ]
    },
    {
     "data": {
      "text/plain": [
       "'              precision    recall  f1-score   support\\n\\n           0       0.00      0.00      0.00         0\\n           1       1.00      0.67      0.80      1982\\n\\n    accuracy                           0.67      1982\\n   macro avg       0.50      0.33      0.40      1982\\nweighted avg       1.00      0.67      0.80      1982\\n'"
      ]
     },
     "execution_count": 73,
     "metadata": {},
     "output_type": "execute_result"
    }
   ],
   "source": [
    "import sklearn\n",
    "always_true = len(test_data_rel[['text', 'labels']]['labels'].values)\n",
    "sklearn.metrics.classification_report([1]*always_true, test_data_rel[['text', 'labels']]['labels'].values)"
   ]
  },
  {
   "cell_type": "code",
   "execution_count": 75,
   "id": "8b08ccb4-bc46-405b-94cb-b03417a84909",
   "metadata": {},
   "outputs": [
    {
     "name": "stdout",
     "output_type": "stream",
     "text": [
      "              precision    recall  f1-score   support\n",
      "\n",
      "           0       0.00      0.00      0.00         0\n",
      "           1       1.00      0.67      0.80      1982\n",
      "\n",
      "    accuracy                           0.67      1982\n",
      "   macro avg       0.50      0.33      0.40      1982\n",
      "weighted avg       1.00      0.67      0.80      1982\n",
      "\n"
     ]
    },
    {
     "name": "stderr",
     "output_type": "stream",
     "text": [
      "/opt/conda/lib/python3.7/site-packages/sklearn/metrics/_classification.py:1308: UndefinedMetricWarning: Recall and F-score are ill-defined and being set to 0.0 in labels with no true samples. Use `zero_division` parameter to control this behavior.\n",
      "  _warn_prf(average, modifier, msg_start, len(result))\n",
      "/opt/conda/lib/python3.7/site-packages/sklearn/metrics/_classification.py:1308: UndefinedMetricWarning: Recall and F-score are ill-defined and being set to 0.0 in labels with no true samples. Use `zero_division` parameter to control this behavior.\n",
      "  _warn_prf(average, modifier, msg_start, len(result))\n",
      "/opt/conda/lib/python3.7/site-packages/sklearn/metrics/_classification.py:1308: UndefinedMetricWarning: Recall and F-score are ill-defined and being set to 0.0 in labels with no true samples. Use `zero_division` parameter to control this behavior.\n",
      "  _warn_prf(average, modifier, msg_start, len(result))\n"
     ]
    }
   ],
   "source": [
    "print(sklearn.metrics.classification_report([1]*always_true, test_data_rel[['text', 'labels']]['labels'].values))"
   ]
  },
  {
   "cell_type": "code",
   "execution_count": null,
   "id": "f24b9267-d147-4bdb-aec6-12369c400d4e",
   "metadata": {},
   "outputs": [],
   "source": []
  }
 ],
 "metadata": {
  "environment": {
   "kernel": "conda-root-py",
   "name": "pytorch-gpu.1-9.m82",
   "type": "gcloud",
   "uri": "gcr.io/deeplearning-platform-release/pytorch-gpu.1-9:m82"
  },
  "kernelspec": {
   "display_name": "Python [conda env:root] *",
   "language": "python",
   "name": "conda-root-py"
  },
  "language_info": {
   "codemirror_mode": {
    "name": "ipython",
    "version": 3
   },
   "file_extension": ".py",
   "mimetype": "text/x-python",
   "name": "python",
   "nbconvert_exporter": "python",
   "pygments_lexer": "ipython3",
   "version": "3.7.10"
  }
 },
 "nbformat": 4,
 "nbformat_minor": 5
}
